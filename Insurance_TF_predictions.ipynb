{
  "nbformat": 4,
  "nbformat_minor": 0,
  "metadata": {
    "colab": {
      "provenance": []
    },
    "kernelspec": {
      "name": "python3",
      "display_name": "Python 3"
    },
    "language_info": {
      "name": "python"
    }
  },
  "cells": [
    {
      "cell_type": "code",
      "source": [
        "import pandas as pd\n",
        "import matplotlib.pyplot as plt\n",
        "import tensorflow as tf"
      ],
      "metadata": {
        "id": "hJlWHmJjQqx0"
      },
      "execution_count": 1,
      "outputs": []
    },
    {
      "cell_type": "code",
      "source": [
        "data = pd.read_csv('https://raw.githubusercontent.com/stedy/Machine-Learning-with-R-datasets/master/insurance.csv')"
      ],
      "metadata": {
        "id": "M5zG5WuDQvGN"
      },
      "execution_count": 2,
      "outputs": []
    },
    {
      "cell_type": "code",
      "source": [
        "data.head()"
      ],
      "metadata": {
        "colab": {
          "base_uri": "https://localhost:8080/",
          "height": 206
        },
        "id": "kU1Wtx-sQu2W",
        "outputId": "07695e82-5a29-44f0-b528-ff0f1912a21d"
      },
      "execution_count": 3,
      "outputs": [
        {
          "output_type": "execute_result",
          "data": {
            "text/plain": [
              "   age     sex     bmi  children smoker     region      charges\n",
              "0   19  female  27.900         0    yes  southwest  16884.92400\n",
              "1   18    male  33.770         1     no  southeast   1725.55230\n",
              "2   28    male  33.000         3     no  southeast   4449.46200\n",
              "3   33    male  22.705         0     no  northwest  21984.47061\n",
              "4   32    male  28.880         0     no  northwest   3866.85520"
            ],
            "text/html": [
              "\n",
              "  <div id=\"df-dc9a8a1d-92b2-402b-8a67-9fdf9bbffaf9\">\n",
              "    <div class=\"colab-df-container\">\n",
              "      <div>\n",
              "<style scoped>\n",
              "    .dataframe tbody tr th:only-of-type {\n",
              "        vertical-align: middle;\n",
              "    }\n",
              "\n",
              "    .dataframe tbody tr th {\n",
              "        vertical-align: top;\n",
              "    }\n",
              "\n",
              "    .dataframe thead th {\n",
              "        text-align: right;\n",
              "    }\n",
              "</style>\n",
              "<table border=\"1\" class=\"dataframe\">\n",
              "  <thead>\n",
              "    <tr style=\"text-align: right;\">\n",
              "      <th></th>\n",
              "      <th>age</th>\n",
              "      <th>sex</th>\n",
              "      <th>bmi</th>\n",
              "      <th>children</th>\n",
              "      <th>smoker</th>\n",
              "      <th>region</th>\n",
              "      <th>charges</th>\n",
              "    </tr>\n",
              "  </thead>\n",
              "  <tbody>\n",
              "    <tr>\n",
              "      <th>0</th>\n",
              "      <td>19</td>\n",
              "      <td>female</td>\n",
              "      <td>27.900</td>\n",
              "      <td>0</td>\n",
              "      <td>yes</td>\n",
              "      <td>southwest</td>\n",
              "      <td>16884.92400</td>\n",
              "    </tr>\n",
              "    <tr>\n",
              "      <th>1</th>\n",
              "      <td>18</td>\n",
              "      <td>male</td>\n",
              "      <td>33.770</td>\n",
              "      <td>1</td>\n",
              "      <td>no</td>\n",
              "      <td>southeast</td>\n",
              "      <td>1725.55230</td>\n",
              "    </tr>\n",
              "    <tr>\n",
              "      <th>2</th>\n",
              "      <td>28</td>\n",
              "      <td>male</td>\n",
              "      <td>33.000</td>\n",
              "      <td>3</td>\n",
              "      <td>no</td>\n",
              "      <td>southeast</td>\n",
              "      <td>4449.46200</td>\n",
              "    </tr>\n",
              "    <tr>\n",
              "      <th>3</th>\n",
              "      <td>33</td>\n",
              "      <td>male</td>\n",
              "      <td>22.705</td>\n",
              "      <td>0</td>\n",
              "      <td>no</td>\n",
              "      <td>northwest</td>\n",
              "      <td>21984.47061</td>\n",
              "    </tr>\n",
              "    <tr>\n",
              "      <th>4</th>\n",
              "      <td>32</td>\n",
              "      <td>male</td>\n",
              "      <td>28.880</td>\n",
              "      <td>0</td>\n",
              "      <td>no</td>\n",
              "      <td>northwest</td>\n",
              "      <td>3866.85520</td>\n",
              "    </tr>\n",
              "  </tbody>\n",
              "</table>\n",
              "</div>\n",
              "      <button class=\"colab-df-convert\" onclick=\"convertToInteractive('df-dc9a8a1d-92b2-402b-8a67-9fdf9bbffaf9')\"\n",
              "              title=\"Convert this dataframe to an interactive table.\"\n",
              "              style=\"display:none;\">\n",
              "        \n",
              "  <svg xmlns=\"http://www.w3.org/2000/svg\" height=\"24px\"viewBox=\"0 0 24 24\"\n",
              "       width=\"24px\">\n",
              "    <path d=\"M0 0h24v24H0V0z\" fill=\"none\"/>\n",
              "    <path d=\"M18.56 5.44l.94 2.06.94-2.06 2.06-.94-2.06-.94-.94-2.06-.94 2.06-2.06.94zm-11 1L8.5 8.5l.94-2.06 2.06-.94-2.06-.94L8.5 2.5l-.94 2.06-2.06.94zm10 10l.94 2.06.94-2.06 2.06-.94-2.06-.94-.94-2.06-.94 2.06-2.06.94z\"/><path d=\"M17.41 7.96l-1.37-1.37c-.4-.4-.92-.59-1.43-.59-.52 0-1.04.2-1.43.59L10.3 9.45l-7.72 7.72c-.78.78-.78 2.05 0 2.83L4 21.41c.39.39.9.59 1.41.59.51 0 1.02-.2 1.41-.59l7.78-7.78 2.81-2.81c.8-.78.8-2.07 0-2.86zM5.41 20L4 18.59l7.72-7.72 1.47 1.35L5.41 20z\"/>\n",
              "  </svg>\n",
              "      </button>\n",
              "      \n",
              "  <style>\n",
              "    .colab-df-container {\n",
              "      display:flex;\n",
              "      flex-wrap:wrap;\n",
              "      gap: 12px;\n",
              "    }\n",
              "\n",
              "    .colab-df-convert {\n",
              "      background-color: #E8F0FE;\n",
              "      border: none;\n",
              "      border-radius: 50%;\n",
              "      cursor: pointer;\n",
              "      display: none;\n",
              "      fill: #1967D2;\n",
              "      height: 32px;\n",
              "      padding: 0 0 0 0;\n",
              "      width: 32px;\n",
              "    }\n",
              "\n",
              "    .colab-df-convert:hover {\n",
              "      background-color: #E2EBFA;\n",
              "      box-shadow: 0px 1px 2px rgba(60, 64, 67, 0.3), 0px 1px 3px 1px rgba(60, 64, 67, 0.15);\n",
              "      fill: #174EA6;\n",
              "    }\n",
              "\n",
              "    [theme=dark] .colab-df-convert {\n",
              "      background-color: #3B4455;\n",
              "      fill: #D2E3FC;\n",
              "    }\n",
              "\n",
              "    [theme=dark] .colab-df-convert:hover {\n",
              "      background-color: #434B5C;\n",
              "      box-shadow: 0px 1px 3px 1px rgba(0, 0, 0, 0.15);\n",
              "      filter: drop-shadow(0px 1px 2px rgba(0, 0, 0, 0.3));\n",
              "      fill: #FFFFFF;\n",
              "    }\n",
              "  </style>\n",
              "\n",
              "      <script>\n",
              "        const buttonEl =\n",
              "          document.querySelector('#df-dc9a8a1d-92b2-402b-8a67-9fdf9bbffaf9 button.colab-df-convert');\n",
              "        buttonEl.style.display =\n",
              "          google.colab.kernel.accessAllowed ? 'block' : 'none';\n",
              "\n",
              "        async function convertToInteractive(key) {\n",
              "          const element = document.querySelector('#df-dc9a8a1d-92b2-402b-8a67-9fdf9bbffaf9');\n",
              "          const dataTable =\n",
              "            await google.colab.kernel.invokeFunction('convertToInteractive',\n",
              "                                                     [key], {});\n",
              "          if (!dataTable) return;\n",
              "\n",
              "          const docLinkHtml = 'Like what you see? Visit the ' +\n",
              "            '<a target=\"_blank\" href=https://colab.research.google.com/notebooks/data_table.ipynb>data table notebook</a>'\n",
              "            + ' to learn more about interactive tables.';\n",
              "          element.innerHTML = '';\n",
              "          dataTable['output_type'] = 'display_data';\n",
              "          await google.colab.output.renderOutput(dataTable, element);\n",
              "          const docLink = document.createElement('div');\n",
              "          docLink.innerHTML = docLinkHtml;\n",
              "          element.appendChild(docLink);\n",
              "        }\n",
              "      </script>\n",
              "    </div>\n",
              "  </div>\n",
              "  "
            ]
          },
          "metadata": {},
          "execution_count": 3
        }
      ]
    },
    {
      "cell_type": "code",
      "source": [
        "from sklearn.model_selection import train_test_split\n",
        "from sklearn.preprocessing import MinMaxScaler, OneHotEncoder\n",
        "from sklearn.compose import make_column_transformer"
      ],
      "metadata": {
        "id": "DtVVGHEMQuqW"
      },
      "execution_count": 4,
      "outputs": []
    },
    {
      "cell_type": "code",
      "source": [
        "# initializing column transformer\n",
        "mct = make_column_transformer(\n",
        "    (MinMaxScaler(), [\"age\", \"bmi\", \"children\"]),\n",
        "    (OneHotEncoder(handle_unknown=\"ignore\"), [\"sex\", \"smoker\", \"region\"])\n",
        ")"
      ],
      "metadata": {
        "id": "uNHUWJQ5SR8R"
      },
      "execution_count": 5,
      "outputs": []
    },
    {
      "cell_type": "code",
      "source": [
        "# initialzing features and labels\n",
        "X = data.drop([\"charges\"], axis = 1)\n",
        "y = data[\"charges\"]\n",
        "X.head()"
      ],
      "metadata": {
        "id": "la5XJ9lESR1D",
        "colab": {
          "base_uri": "https://localhost:8080/",
          "height": 206
        },
        "outputId": "8bbe002a-d14a-4a4f-b97e-37ca0e438d28"
      },
      "execution_count": 6,
      "outputs": [
        {
          "output_type": "execute_result",
          "data": {
            "text/plain": [
              "   age     sex     bmi  children smoker     region\n",
              "0   19  female  27.900         0    yes  southwest\n",
              "1   18    male  33.770         1     no  southeast\n",
              "2   28    male  33.000         3     no  southeast\n",
              "3   33    male  22.705         0     no  northwest\n",
              "4   32    male  28.880         0     no  northwest"
            ],
            "text/html": [
              "\n",
              "  <div id=\"df-69af3e51-2223-4308-96f7-7c60da17259d\">\n",
              "    <div class=\"colab-df-container\">\n",
              "      <div>\n",
              "<style scoped>\n",
              "    .dataframe tbody tr th:only-of-type {\n",
              "        vertical-align: middle;\n",
              "    }\n",
              "\n",
              "    .dataframe tbody tr th {\n",
              "        vertical-align: top;\n",
              "    }\n",
              "\n",
              "    .dataframe thead th {\n",
              "        text-align: right;\n",
              "    }\n",
              "</style>\n",
              "<table border=\"1\" class=\"dataframe\">\n",
              "  <thead>\n",
              "    <tr style=\"text-align: right;\">\n",
              "      <th></th>\n",
              "      <th>age</th>\n",
              "      <th>sex</th>\n",
              "      <th>bmi</th>\n",
              "      <th>children</th>\n",
              "      <th>smoker</th>\n",
              "      <th>region</th>\n",
              "    </tr>\n",
              "  </thead>\n",
              "  <tbody>\n",
              "    <tr>\n",
              "      <th>0</th>\n",
              "      <td>19</td>\n",
              "      <td>female</td>\n",
              "      <td>27.900</td>\n",
              "      <td>0</td>\n",
              "      <td>yes</td>\n",
              "      <td>southwest</td>\n",
              "    </tr>\n",
              "    <tr>\n",
              "      <th>1</th>\n",
              "      <td>18</td>\n",
              "      <td>male</td>\n",
              "      <td>33.770</td>\n",
              "      <td>1</td>\n",
              "      <td>no</td>\n",
              "      <td>southeast</td>\n",
              "    </tr>\n",
              "    <tr>\n",
              "      <th>2</th>\n",
              "      <td>28</td>\n",
              "      <td>male</td>\n",
              "      <td>33.000</td>\n",
              "      <td>3</td>\n",
              "      <td>no</td>\n",
              "      <td>southeast</td>\n",
              "    </tr>\n",
              "    <tr>\n",
              "      <th>3</th>\n",
              "      <td>33</td>\n",
              "      <td>male</td>\n",
              "      <td>22.705</td>\n",
              "      <td>0</td>\n",
              "      <td>no</td>\n",
              "      <td>northwest</td>\n",
              "    </tr>\n",
              "    <tr>\n",
              "      <th>4</th>\n",
              "      <td>32</td>\n",
              "      <td>male</td>\n",
              "      <td>28.880</td>\n",
              "      <td>0</td>\n",
              "      <td>no</td>\n",
              "      <td>northwest</td>\n",
              "    </tr>\n",
              "  </tbody>\n",
              "</table>\n",
              "</div>\n",
              "      <button class=\"colab-df-convert\" onclick=\"convertToInteractive('df-69af3e51-2223-4308-96f7-7c60da17259d')\"\n",
              "              title=\"Convert this dataframe to an interactive table.\"\n",
              "              style=\"display:none;\">\n",
              "        \n",
              "  <svg xmlns=\"http://www.w3.org/2000/svg\" height=\"24px\"viewBox=\"0 0 24 24\"\n",
              "       width=\"24px\">\n",
              "    <path d=\"M0 0h24v24H0V0z\" fill=\"none\"/>\n",
              "    <path d=\"M18.56 5.44l.94 2.06.94-2.06 2.06-.94-2.06-.94-.94-2.06-.94 2.06-2.06.94zm-11 1L8.5 8.5l.94-2.06 2.06-.94-2.06-.94L8.5 2.5l-.94 2.06-2.06.94zm10 10l.94 2.06.94-2.06 2.06-.94-2.06-.94-.94-2.06-.94 2.06-2.06.94z\"/><path d=\"M17.41 7.96l-1.37-1.37c-.4-.4-.92-.59-1.43-.59-.52 0-1.04.2-1.43.59L10.3 9.45l-7.72 7.72c-.78.78-.78 2.05 0 2.83L4 21.41c.39.39.9.59 1.41.59.51 0 1.02-.2 1.41-.59l7.78-7.78 2.81-2.81c.8-.78.8-2.07 0-2.86zM5.41 20L4 18.59l7.72-7.72 1.47 1.35L5.41 20z\"/>\n",
              "  </svg>\n",
              "      </button>\n",
              "      \n",
              "  <style>\n",
              "    .colab-df-container {\n",
              "      display:flex;\n",
              "      flex-wrap:wrap;\n",
              "      gap: 12px;\n",
              "    }\n",
              "\n",
              "    .colab-df-convert {\n",
              "      background-color: #E8F0FE;\n",
              "      border: none;\n",
              "      border-radius: 50%;\n",
              "      cursor: pointer;\n",
              "      display: none;\n",
              "      fill: #1967D2;\n",
              "      height: 32px;\n",
              "      padding: 0 0 0 0;\n",
              "      width: 32px;\n",
              "    }\n",
              "\n",
              "    .colab-df-convert:hover {\n",
              "      background-color: #E2EBFA;\n",
              "      box-shadow: 0px 1px 2px rgba(60, 64, 67, 0.3), 0px 1px 3px 1px rgba(60, 64, 67, 0.15);\n",
              "      fill: #174EA6;\n",
              "    }\n",
              "\n",
              "    [theme=dark] .colab-df-convert {\n",
              "      background-color: #3B4455;\n",
              "      fill: #D2E3FC;\n",
              "    }\n",
              "\n",
              "    [theme=dark] .colab-df-convert:hover {\n",
              "      background-color: #434B5C;\n",
              "      box-shadow: 0px 1px 3px 1px rgba(0, 0, 0, 0.15);\n",
              "      filter: drop-shadow(0px 1px 2px rgba(0, 0, 0, 0.3));\n",
              "      fill: #FFFFFF;\n",
              "    }\n",
              "  </style>\n",
              "\n",
              "      <script>\n",
              "        const buttonEl =\n",
              "          document.querySelector('#df-69af3e51-2223-4308-96f7-7c60da17259d button.colab-df-convert');\n",
              "        buttonEl.style.display =\n",
              "          google.colab.kernel.accessAllowed ? 'block' : 'none';\n",
              "\n",
              "        async function convertToInteractive(key) {\n",
              "          const element = document.querySelector('#df-69af3e51-2223-4308-96f7-7c60da17259d');\n",
              "          const dataTable =\n",
              "            await google.colab.kernel.invokeFunction('convertToInteractive',\n",
              "                                                     [key], {});\n",
              "          if (!dataTable) return;\n",
              "\n",
              "          const docLinkHtml = 'Like what you see? Visit the ' +\n",
              "            '<a target=\"_blank\" href=https://colab.research.google.com/notebooks/data_table.ipynb>data table notebook</a>'\n",
              "            + ' to learn more about interactive tables.';\n",
              "          element.innerHTML = '';\n",
              "          dataTable['output_type'] = 'display_data';\n",
              "          await google.colab.output.renderOutput(dataTable, element);\n",
              "          const docLink = document.createElement('div');\n",
              "          docLink.innerHTML = docLinkHtml;\n",
              "          element.appendChild(docLink);\n",
              "        }\n",
              "      </script>\n",
              "    </div>\n",
              "  </div>\n",
              "  "
            ]
          },
          "metadata": {},
          "execution_count": 6
        }
      ]
    },
    {
      "cell_type": "code",
      "source": [
        "y.head()"
      ],
      "metadata": {
        "colab": {
          "base_uri": "https://localhost:8080/"
        },
        "id": "BHpJ3KsNdide",
        "outputId": "f691b2a4-c8cd-49c7-ae5f-0fb447abb3f5"
      },
      "execution_count": 7,
      "outputs": [
        {
          "output_type": "execute_result",
          "data": {
            "text/plain": [
              "0    16884.92400\n",
              "1     1725.55230\n",
              "2     4449.46200\n",
              "3    21984.47061\n",
              "4     3866.85520\n",
              "Name: charges, dtype: float64"
            ]
          },
          "metadata": {},
          "execution_count": 7
        }
      ]
    },
    {
      "cell_type": "code",
      "source": [
        "# spliting the data into train and test datasets\n",
        "X_train, X_test, y_train, y_test = train_test_split(X, y, test_size = 0.2, random_state = 42)"
      ],
      "metadata": {
        "id": "xMi0qzwAecIq"
      },
      "execution_count": 8,
      "outputs": []
    },
    {
      "cell_type": "code",
      "source": [
        "type(X_train)"
      ],
      "metadata": {
        "colab": {
          "base_uri": "https://localhost:8080/"
        },
        "id": "347zy-CMvRyI",
        "outputId": "0b4d3807-1575-4f78-86f7-17b81d66e005"
      },
      "execution_count": 9,
      "outputs": [
        {
          "output_type": "execute_result",
          "data": {
            "text/plain": [
              "pandas.core.frame.DataFrame"
            ]
          },
          "metadata": {},
          "execution_count": 9
        }
      ]
    },
    {
      "cell_type": "code",
      "source": [
        "# fitting the column transformer\n",
        "mct.fit(X_train)"
      ],
      "metadata": {
        "colab": {
          "base_uri": "https://localhost:8080/",
          "height": 117
        },
        "id": "WcGB1wnae-FH",
        "outputId": "30720cc0-47ea-4be6-f1dc-9eaf0483296d"
      },
      "execution_count": 10,
      "outputs": [
        {
          "output_type": "execute_result",
          "data": {
            "text/plain": [
              "ColumnTransformer(transformers=[('minmaxscaler', MinMaxScaler(),\n",
              "                                 ['age', 'bmi', 'children']),\n",
              "                                ('onehotencoder',\n",
              "                                 OneHotEncoder(handle_unknown='ignore'),\n",
              "                                 ['sex', 'smoker', 'region'])])"
            ],
            "text/html": [
              "<style>#sk-container-id-1 {color: black;background-color: white;}#sk-container-id-1 pre{padding: 0;}#sk-container-id-1 div.sk-toggleable {background-color: white;}#sk-container-id-1 label.sk-toggleable__label {cursor: pointer;display: block;width: 100%;margin-bottom: 0;padding: 0.3em;box-sizing: border-box;text-align: center;}#sk-container-id-1 label.sk-toggleable__label-arrow:before {content: \"▸\";float: left;margin-right: 0.25em;color: #696969;}#sk-container-id-1 label.sk-toggleable__label-arrow:hover:before {color: black;}#sk-container-id-1 div.sk-estimator:hover label.sk-toggleable__label-arrow:before {color: black;}#sk-container-id-1 div.sk-toggleable__content {max-height: 0;max-width: 0;overflow: hidden;text-align: left;background-color: #f0f8ff;}#sk-container-id-1 div.sk-toggleable__content pre {margin: 0.2em;color: black;border-radius: 0.25em;background-color: #f0f8ff;}#sk-container-id-1 input.sk-toggleable__control:checked~div.sk-toggleable__content {max-height: 200px;max-width: 100%;overflow: auto;}#sk-container-id-1 input.sk-toggleable__control:checked~label.sk-toggleable__label-arrow:before {content: \"▾\";}#sk-container-id-1 div.sk-estimator input.sk-toggleable__control:checked~label.sk-toggleable__label {background-color: #d4ebff;}#sk-container-id-1 div.sk-label input.sk-toggleable__control:checked~label.sk-toggleable__label {background-color: #d4ebff;}#sk-container-id-1 input.sk-hidden--visually {border: 0;clip: rect(1px 1px 1px 1px);clip: rect(1px, 1px, 1px, 1px);height: 1px;margin: -1px;overflow: hidden;padding: 0;position: absolute;width: 1px;}#sk-container-id-1 div.sk-estimator {font-family: monospace;background-color: #f0f8ff;border: 1px dotted black;border-radius: 0.25em;box-sizing: border-box;margin-bottom: 0.5em;}#sk-container-id-1 div.sk-estimator:hover {background-color: #d4ebff;}#sk-container-id-1 div.sk-parallel-item::after {content: \"\";width: 100%;border-bottom: 1px solid gray;flex-grow: 1;}#sk-container-id-1 div.sk-label:hover label.sk-toggleable__label {background-color: #d4ebff;}#sk-container-id-1 div.sk-serial::before {content: \"\";position: absolute;border-left: 1px solid gray;box-sizing: border-box;top: 0;bottom: 0;left: 50%;z-index: 0;}#sk-container-id-1 div.sk-serial {display: flex;flex-direction: column;align-items: center;background-color: white;padding-right: 0.2em;padding-left: 0.2em;position: relative;}#sk-container-id-1 div.sk-item {position: relative;z-index: 1;}#sk-container-id-1 div.sk-parallel {display: flex;align-items: stretch;justify-content: center;background-color: white;position: relative;}#sk-container-id-1 div.sk-item::before, #sk-container-id-1 div.sk-parallel-item::before {content: \"\";position: absolute;border-left: 1px solid gray;box-sizing: border-box;top: 0;bottom: 0;left: 50%;z-index: -1;}#sk-container-id-1 div.sk-parallel-item {display: flex;flex-direction: column;z-index: 1;position: relative;background-color: white;}#sk-container-id-1 div.sk-parallel-item:first-child::after {align-self: flex-end;width: 50%;}#sk-container-id-1 div.sk-parallel-item:last-child::after {align-self: flex-start;width: 50%;}#sk-container-id-1 div.sk-parallel-item:only-child::after {width: 0;}#sk-container-id-1 div.sk-dashed-wrapped {border: 1px dashed gray;margin: 0 0.4em 0.5em 0.4em;box-sizing: border-box;padding-bottom: 0.4em;background-color: white;}#sk-container-id-1 div.sk-label label {font-family: monospace;font-weight: bold;display: inline-block;line-height: 1.2em;}#sk-container-id-1 div.sk-label-container {text-align: center;}#sk-container-id-1 div.sk-container {/* jupyter's `normalize.less` sets `[hidden] { display: none; }` but bootstrap.min.css set `[hidden] { display: none !important; }` so we also need the `!important` here to be able to override the default hidden behavior on the sphinx rendered scikit-learn.org. See: https://github.com/scikit-learn/scikit-learn/issues/21755 */display: inline-block !important;position: relative;}#sk-container-id-1 div.sk-text-repr-fallback {display: none;}</style><div id=\"sk-container-id-1\" class=\"sk-top-container\"><div class=\"sk-text-repr-fallback\"><pre>ColumnTransformer(transformers=[(&#x27;minmaxscaler&#x27;, MinMaxScaler(),\n",
              "                                 [&#x27;age&#x27;, &#x27;bmi&#x27;, &#x27;children&#x27;]),\n",
              "                                (&#x27;onehotencoder&#x27;,\n",
              "                                 OneHotEncoder(handle_unknown=&#x27;ignore&#x27;),\n",
              "                                 [&#x27;sex&#x27;, &#x27;smoker&#x27;, &#x27;region&#x27;])])</pre><b>In a Jupyter environment, please rerun this cell to show the HTML representation or trust the notebook. <br />On GitHub, the HTML representation is unable to render, please try loading this page with nbviewer.org.</b></div><div class=\"sk-container\" hidden><div class=\"sk-item sk-dashed-wrapped\"><div class=\"sk-label-container\"><div class=\"sk-label sk-toggleable\"><input class=\"sk-toggleable__control sk-hidden--visually\" id=\"sk-estimator-id-1\" type=\"checkbox\" ><label for=\"sk-estimator-id-1\" class=\"sk-toggleable__label sk-toggleable__label-arrow\">ColumnTransformer</label><div class=\"sk-toggleable__content\"><pre>ColumnTransformer(transformers=[(&#x27;minmaxscaler&#x27;, MinMaxScaler(),\n",
              "                                 [&#x27;age&#x27;, &#x27;bmi&#x27;, &#x27;children&#x27;]),\n",
              "                                (&#x27;onehotencoder&#x27;,\n",
              "                                 OneHotEncoder(handle_unknown=&#x27;ignore&#x27;),\n",
              "                                 [&#x27;sex&#x27;, &#x27;smoker&#x27;, &#x27;region&#x27;])])</pre></div></div></div><div class=\"sk-parallel\"><div class=\"sk-parallel-item\"><div class=\"sk-item\"><div class=\"sk-label-container\"><div class=\"sk-label sk-toggleable\"><input class=\"sk-toggleable__control sk-hidden--visually\" id=\"sk-estimator-id-2\" type=\"checkbox\" ><label for=\"sk-estimator-id-2\" class=\"sk-toggleable__label sk-toggleable__label-arrow\">minmaxscaler</label><div class=\"sk-toggleable__content\"><pre>[&#x27;age&#x27;, &#x27;bmi&#x27;, &#x27;children&#x27;]</pre></div></div></div><div class=\"sk-serial\"><div class=\"sk-item\"><div class=\"sk-estimator sk-toggleable\"><input class=\"sk-toggleable__control sk-hidden--visually\" id=\"sk-estimator-id-3\" type=\"checkbox\" ><label for=\"sk-estimator-id-3\" class=\"sk-toggleable__label sk-toggleable__label-arrow\">MinMaxScaler</label><div class=\"sk-toggleable__content\"><pre>MinMaxScaler()</pre></div></div></div></div></div></div><div class=\"sk-parallel-item\"><div class=\"sk-item\"><div class=\"sk-label-container\"><div class=\"sk-label sk-toggleable\"><input class=\"sk-toggleable__control sk-hidden--visually\" id=\"sk-estimator-id-4\" type=\"checkbox\" ><label for=\"sk-estimator-id-4\" class=\"sk-toggleable__label sk-toggleable__label-arrow\">onehotencoder</label><div class=\"sk-toggleable__content\"><pre>[&#x27;sex&#x27;, &#x27;smoker&#x27;, &#x27;region&#x27;]</pre></div></div></div><div class=\"sk-serial\"><div class=\"sk-item\"><div class=\"sk-estimator sk-toggleable\"><input class=\"sk-toggleable__control sk-hidden--visually\" id=\"sk-estimator-id-5\" type=\"checkbox\" ><label for=\"sk-estimator-id-5\" class=\"sk-toggleable__label sk-toggleable__label-arrow\">OneHotEncoder</label><div class=\"sk-toggleable__content\"><pre>OneHotEncoder(handle_unknown=&#x27;ignore&#x27;)</pre></div></div></div></div></div></div></div></div></div></div>"
            ]
          },
          "metadata": {},
          "execution_count": 10
        }
      ]
    },
    {
      "cell_type": "code",
      "source": [
        "# normalization numerical data and trnasformation categorical data\n",
        "X_train_normal = mct.transform(X_train)\n",
        "X_test_normal = mct.transform(X_test)"
      ],
      "metadata": {
        "id": "rEOFnmaZfLT4"
      },
      "execution_count": 11,
      "outputs": []
    },
    {
      "cell_type": "code",
      "source": [
        "X_train.loc[3]"
      ],
      "metadata": {
        "colab": {
          "base_uri": "https://localhost:8080/"
        },
        "id": "ZvlIMmASfuCs",
        "outputId": "90faa0f0-a17c-444b-9b22-5d331b0dd856"
      },
      "execution_count": 12,
      "outputs": [
        {
          "output_type": "execute_result",
          "data": {
            "text/plain": [
              "age                33\n",
              "sex              male\n",
              "bmi            22.705\n",
              "children            0\n",
              "smoker             no\n",
              "region      northwest\n",
              "Name: 3, dtype: object"
            ]
          },
          "metadata": {},
          "execution_count": 12
        }
      ]
    },
    {
      "cell_type": "code",
      "source": [
        "X_train_normal[3]"
      ],
      "metadata": {
        "colab": {
          "base_uri": "https://localhost:8080/"
        },
        "id": "Jd3A-fgDgrGZ",
        "outputId": "ed842094-cf9a-465d-a009-16bd9c36a8e1"
      },
      "execution_count": 13,
      "outputs": [
        {
          "output_type": "execute_result",
          "data": {
            "text/plain": [
              "array([0.45652174, 0.49394673, 1.        , 1.        , 0.        ,\n",
              "       1.        , 0.        , 0.        , 0.        , 1.        ,\n",
              "       0.        ])"
            ]
          },
          "metadata": {},
          "execution_count": 13
        }
      ]
    },
    {
      "cell_type": "code",
      "source": [
        "X_train_normal.shape, X_train.shape\n"
      ],
      "metadata": {
        "colab": {
          "base_uri": "https://localhost:8080/"
        },
        "id": "OiXgqyvWgwfZ",
        "outputId": "fcaf44b8-d942-4a95-e304-52293f7632f9"
      },
      "execution_count": 14,
      "outputs": [
        {
          "output_type": "execute_result",
          "data": {
            "text/plain": [
              "((1070, 11), (1070, 6))"
            ]
          },
          "metadata": {},
          "execution_count": 14
        }
      ]
    },
    {
      "cell_type": "code",
      "source": [
        "# building the model to predict charges\n",
        "\n",
        "tf.random.set_seed(42)\n",
        "\n",
        "model = tf.keras.Sequential([\n",
        "    tf.keras.layers.Dense(100),\n",
        "    tf.keras.layers.Dense(10),\n",
        "    tf.keras.layers.Dense(1)\n",
        "])\n",
        "\n",
        "model.compile(optimizer = tf.keras.optimizers.Adam(),\n",
        "              loss = tf.keras.losses.mae,\n",
        "              metrics=\"mae\")\n",
        "model.fit(X_train_normal, y_train, epochs = 100)"
      ],
      "metadata": {
        "colab": {
          "base_uri": "https://localhost:8080/"
        },
        "id": "VgXAkLZFilGg",
        "outputId": "d9c27006-11bd-4e42-c793-cc315e1537d5"
      },
      "execution_count": 15,
      "outputs": [
        {
          "output_type": "stream",
          "name": "stdout",
          "text": [
            "Epoch 1/100\n",
            "34/34 [==============================] - 1s 2ms/step - loss: 13344.0742 - mae: 13344.0742\n",
            "Epoch 2/100\n",
            "34/34 [==============================] - 0s 2ms/step - loss: 13335.6943 - mae: 13335.6943\n",
            "Epoch 3/100\n",
            "34/34 [==============================] - 0s 2ms/step - loss: 13314.6914 - mae: 13314.6914\n",
            "Epoch 4/100\n",
            "34/34 [==============================] - 0s 2ms/step - loss: 13269.9502 - mae: 13269.9502\n",
            "Epoch 5/100\n",
            "34/34 [==============================] - 0s 2ms/step - loss: 13189.7695 - mae: 13189.7695\n",
            "Epoch 6/100\n",
            "34/34 [==============================] - 0s 2ms/step - loss: 13062.7500 - mae: 13062.7500\n",
            "Epoch 7/100\n",
            "34/34 [==============================] - 0s 2ms/step - loss: 12878.7559 - mae: 12878.7559\n",
            "Epoch 8/100\n",
            "34/34 [==============================] - 0s 2ms/step - loss: 12627.8750 - mae: 12627.8750\n",
            "Epoch 9/100\n",
            "34/34 [==============================] - 0s 2ms/step - loss: 12300.0537 - mae: 12300.0537\n",
            "Epoch 10/100\n",
            "34/34 [==============================] - 0s 2ms/step - loss: 11892.4502 - mae: 11892.4502\n",
            "Epoch 11/100\n",
            "34/34 [==============================] - 0s 2ms/step - loss: 11415.9619 - mae: 11415.9619\n",
            "Epoch 12/100\n",
            "34/34 [==============================] - 0s 2ms/step - loss: 10908.3027 - mae: 10908.3027\n",
            "Epoch 13/100\n",
            "34/34 [==============================] - 0s 2ms/step - loss: 10407.2334 - mae: 10407.2334\n",
            "Epoch 14/100\n",
            "34/34 [==============================] - 0s 2ms/step - loss: 9915.4199 - mae: 9915.4199\n",
            "Epoch 15/100\n",
            "34/34 [==============================] - 0s 2ms/step - loss: 9451.4717 - mae: 9451.4717\n",
            "Epoch 16/100\n",
            "34/34 [==============================] - 0s 2ms/step - loss: 9040.6748 - mae: 9040.6748\n",
            "Epoch 17/100\n",
            "34/34 [==============================] - 0s 2ms/step - loss: 8704.5977 - mae: 8704.5977\n",
            "Epoch 18/100\n",
            "34/34 [==============================] - 0s 2ms/step - loss: 8430.8018 - mae: 8430.8018\n",
            "Epoch 19/100\n",
            "34/34 [==============================] - 0s 2ms/step - loss: 8225.8633 - mae: 8225.8633\n",
            "Epoch 20/100\n",
            "34/34 [==============================] - 0s 2ms/step - loss: 8084.3652 - mae: 8084.3652\n",
            "Epoch 21/100\n",
            "34/34 [==============================] - 0s 2ms/step - loss: 7980.1113 - mae: 7980.1113\n",
            "Epoch 22/100\n",
            "34/34 [==============================] - 0s 3ms/step - loss: 7908.2402 - mae: 7908.2402\n",
            "Epoch 23/100\n",
            "34/34 [==============================] - 0s 2ms/step - loss: 7850.9946 - mae: 7850.9946\n",
            "Epoch 24/100\n",
            "34/34 [==============================] - 0s 2ms/step - loss: 7799.2236 - mae: 7799.2236\n",
            "Epoch 25/100\n",
            "34/34 [==============================] - 0s 1ms/step - loss: 7761.2632 - mae: 7761.2632\n",
            "Epoch 26/100\n",
            "34/34 [==============================] - 0s 6ms/step - loss: 7709.4209 - mae: 7709.4209\n",
            "Epoch 27/100\n",
            "34/34 [==============================] - 0s 4ms/step - loss: 7667.2031 - mae: 7667.2031\n",
            "Epoch 28/100\n",
            "34/34 [==============================] - 0s 5ms/step - loss: 7624.6914 - mae: 7624.6914\n",
            "Epoch 29/100\n",
            "34/34 [==============================] - 0s 15ms/step - loss: 7582.2324 - mae: 7582.2324\n",
            "Epoch 30/100\n",
            "34/34 [==============================] - 0s 12ms/step - loss: 7538.7324 - mae: 7538.7324\n",
            "Epoch 31/100\n",
            "34/34 [==============================] - 0s 7ms/step - loss: 7494.7773 - mae: 7494.7773\n",
            "Epoch 32/100\n",
            "34/34 [==============================] - 0s 11ms/step - loss: 7450.6196 - mae: 7450.6196\n",
            "Epoch 33/100\n",
            "34/34 [==============================] - 0s 11ms/step - loss: 7406.3164 - mae: 7406.3164\n",
            "Epoch 34/100\n",
            "34/34 [==============================] - 0s 10ms/step - loss: 7357.9619 - mae: 7357.9619\n",
            "Epoch 35/100\n",
            "34/34 [==============================] - 0s 4ms/step - loss: 7311.1040 - mae: 7311.1040\n",
            "Epoch 36/100\n",
            "34/34 [==============================] - 0s 7ms/step - loss: 7260.9092 - mae: 7260.9092\n",
            "Epoch 37/100\n",
            "34/34 [==============================] - 0s 2ms/step - loss: 7210.4399 - mae: 7210.4399\n",
            "Epoch 38/100\n",
            "34/34 [==============================] - 0s 4ms/step - loss: 7159.4370 - mae: 7159.4370\n",
            "Epoch 39/100\n",
            "34/34 [==============================] - 0s 3ms/step - loss: 7104.6504 - mae: 7104.6504\n",
            "Epoch 40/100\n",
            "34/34 [==============================] - 0s 3ms/step - loss: 7049.2139 - mae: 7049.2139\n",
            "Epoch 41/100\n",
            "34/34 [==============================] - 0s 3ms/step - loss: 6992.6577 - mae: 6992.6577\n",
            "Epoch 42/100\n",
            "34/34 [==============================] - 0s 2ms/step - loss: 6933.6343 - mae: 6933.6343\n",
            "Epoch 43/100\n",
            "34/34 [==============================] - 0s 2ms/step - loss: 6870.8760 - mae: 6870.8760\n",
            "Epoch 44/100\n",
            "34/34 [==============================] - 0s 3ms/step - loss: 6804.5210 - mae: 6804.5210\n",
            "Epoch 45/100\n",
            "34/34 [==============================] - 0s 3ms/step - loss: 6737.3018 - mae: 6737.3018\n",
            "Epoch 46/100\n",
            "34/34 [==============================] - 0s 2ms/step - loss: 6668.2612 - mae: 6668.2612\n",
            "Epoch 47/100\n",
            "34/34 [==============================] - 0s 4ms/step - loss: 6596.8330 - mae: 6596.8330\n",
            "Epoch 48/100\n",
            "34/34 [==============================] - 0s 3ms/step - loss: 6517.9438 - mae: 6517.9438\n",
            "Epoch 49/100\n",
            "34/34 [==============================] - 0s 4ms/step - loss: 6438.6455 - mae: 6438.6455\n",
            "Epoch 50/100\n",
            "34/34 [==============================] - 0s 3ms/step - loss: 6352.7949 - mae: 6352.7949\n",
            "Epoch 51/100\n",
            "34/34 [==============================] - 0s 2ms/step - loss: 6268.7383 - mae: 6268.7383\n",
            "Epoch 52/100\n",
            "34/34 [==============================] - 0s 3ms/step - loss: 6174.3755 - mae: 6174.3755\n",
            "Epoch 53/100\n",
            "34/34 [==============================] - 0s 2ms/step - loss: 6078.1401 - mae: 6078.1401\n",
            "Epoch 54/100\n",
            "34/34 [==============================] - 0s 3ms/step - loss: 5979.1396 - mae: 5979.1396\n",
            "Epoch 55/100\n",
            "34/34 [==============================] - 0s 4ms/step - loss: 5871.2446 - mae: 5871.2446\n",
            "Epoch 56/100\n",
            "34/34 [==============================] - 0s 2ms/step - loss: 5762.3623 - mae: 5762.3623\n",
            "Epoch 57/100\n",
            "34/34 [==============================] - 0s 5ms/step - loss: 5645.8394 - mae: 5645.8394\n",
            "Epoch 58/100\n",
            "34/34 [==============================] - 0s 6ms/step - loss: 5526.9961 - mae: 5526.9961\n",
            "Epoch 59/100\n",
            "34/34 [==============================] - 0s 4ms/step - loss: 5408.1719 - mae: 5408.1719\n",
            "Epoch 60/100\n",
            "34/34 [==============================] - 0s 3ms/step - loss: 5284.0186 - mae: 5284.0186\n",
            "Epoch 61/100\n",
            "34/34 [==============================] - 0s 3ms/step - loss: 5155.5234 - mae: 5155.5234\n",
            "Epoch 62/100\n",
            "34/34 [==============================] - 0s 2ms/step - loss: 5024.1670 - mae: 5024.1670\n",
            "Epoch 63/100\n",
            "34/34 [==============================] - 0s 2ms/step - loss: 4893.6553 - mae: 4893.6553\n",
            "Epoch 64/100\n",
            "34/34 [==============================] - 0s 2ms/step - loss: 4760.3105 - mae: 4760.3105\n",
            "Epoch 65/100\n",
            "34/34 [==============================] - 0s 3ms/step - loss: 4631.9629 - mae: 4631.9629\n",
            "Epoch 66/100\n",
            "34/34 [==============================] - 0s 4ms/step - loss: 4504.9966 - mae: 4504.9966\n",
            "Epoch 67/100\n",
            "34/34 [==============================] - 0s 3ms/step - loss: 4393.7139 - mae: 4393.7139\n",
            "Epoch 68/100\n",
            "34/34 [==============================] - 0s 3ms/step - loss: 4284.4185 - mae: 4284.4185\n",
            "Epoch 69/100\n",
            "34/34 [==============================] - 0s 2ms/step - loss: 4181.7998 - mae: 4181.7998\n",
            "Epoch 70/100\n",
            "34/34 [==============================] - 0s 2ms/step - loss: 4088.9995 - mae: 4088.9995\n",
            "Epoch 71/100\n",
            "34/34 [==============================] - 0s 3ms/step - loss: 4002.5659 - mae: 4002.5659\n",
            "Epoch 72/100\n",
            "34/34 [==============================] - 0s 5ms/step - loss: 3928.1453 - mae: 3928.1453\n",
            "Epoch 73/100\n",
            "34/34 [==============================] - 0s 3ms/step - loss: 3865.8606 - mae: 3865.8606\n",
            "Epoch 74/100\n",
            "34/34 [==============================] - 0s 4ms/step - loss: 3813.2163 - mae: 3813.2163\n",
            "Epoch 75/100\n",
            "34/34 [==============================] - 0s 3ms/step - loss: 3773.7100 - mae: 3773.7100\n",
            "Epoch 76/100\n",
            "34/34 [==============================] - 0s 2ms/step - loss: 3744.4280 - mae: 3744.4280\n",
            "Epoch 77/100\n",
            "34/34 [==============================] - 0s 3ms/step - loss: 3720.1042 - mae: 3720.1042\n",
            "Epoch 78/100\n",
            "34/34 [==============================] - 0s 3ms/step - loss: 3703.5881 - mae: 3703.5881\n",
            "Epoch 79/100\n",
            "34/34 [==============================] - 0s 2ms/step - loss: 3691.8867 - mae: 3691.8867\n",
            "Epoch 80/100\n",
            "34/34 [==============================] - 0s 2ms/step - loss: 3683.2197 - mae: 3683.2197\n",
            "Epoch 81/100\n",
            "34/34 [==============================] - 0s 2ms/step - loss: 3677.2371 - mae: 3677.2371\n",
            "Epoch 82/100\n",
            "34/34 [==============================] - 0s 2ms/step - loss: 3674.2500 - mae: 3674.2500\n",
            "Epoch 83/100\n",
            "34/34 [==============================] - 0s 2ms/step - loss: 3668.1406 - mae: 3668.1406\n",
            "Epoch 84/100\n",
            "34/34 [==============================] - 0s 2ms/step - loss: 3665.0496 - mae: 3665.0496\n",
            "Epoch 85/100\n",
            "34/34 [==============================] - 0s 2ms/step - loss: 3662.1655 - mae: 3662.1655\n",
            "Epoch 86/100\n",
            "34/34 [==============================] - 0s 5ms/step - loss: 3660.7703 - mae: 3660.7703\n",
            "Epoch 87/100\n",
            "34/34 [==============================] - 0s 5ms/step - loss: 3657.7520 - mae: 3657.7520\n",
            "Epoch 88/100\n",
            "34/34 [==============================] - 0s 3ms/step - loss: 3655.5073 - mae: 3655.5073\n",
            "Epoch 89/100\n",
            "34/34 [==============================] - 0s 6ms/step - loss: 3653.8669 - mae: 3653.8669\n",
            "Epoch 90/100\n",
            "34/34 [==============================] - 0s 5ms/step - loss: 3652.3098 - mae: 3652.3098\n",
            "Epoch 91/100\n",
            "34/34 [==============================] - 0s 3ms/step - loss: 3649.3401 - mae: 3649.3401\n",
            "Epoch 92/100\n",
            "34/34 [==============================] - 0s 6ms/step - loss: 3648.6262 - mae: 3648.6262\n",
            "Epoch 93/100\n",
            "34/34 [==============================] - 0s 3ms/step - loss: 3646.3833 - mae: 3646.3833\n",
            "Epoch 94/100\n",
            "34/34 [==============================] - 0s 4ms/step - loss: 3644.7585 - mae: 3644.7585\n",
            "Epoch 95/100\n",
            "34/34 [==============================] - 0s 4ms/step - loss: 3645.7041 - mae: 3645.7041\n",
            "Epoch 96/100\n",
            "34/34 [==============================] - 0s 3ms/step - loss: 3642.6780 - mae: 3642.6780\n",
            "Epoch 97/100\n",
            "34/34 [==============================] - 0s 4ms/step - loss: 3640.2888 - mae: 3640.2888\n",
            "Epoch 98/100\n",
            "34/34 [==============================] - 0s 4ms/step - loss: 3638.1929 - mae: 3638.1929\n",
            "Epoch 99/100\n",
            "34/34 [==============================] - 0s 4ms/step - loss: 3637.6350 - mae: 3637.6350\n",
            "Epoch 100/100\n",
            "34/34 [==============================] - 0s 5ms/step - loss: 3635.9744 - mae: 3635.9744\n"
          ]
        },
        {
          "output_type": "execute_result",
          "data": {
            "text/plain": [
              "<keras.callbacks.History at 0x7f2e82133850>"
            ]
          },
          "metadata": {},
          "execution_count": 15
        }
      ]
    },
    {
      "cell_type": "code",
      "source": [
        "model.evaluate(X_test_normal, y_test)"
      ],
      "metadata": {
        "colab": {
          "base_uri": "https://localhost:8080/"
        },
        "id": "RxbJJbr3nUNg",
        "outputId": "8499afe8-1a97-43d7-e238-fc2354e9a45f"
      },
      "execution_count": 16,
      "outputs": [
        {
          "output_type": "stream",
          "name": "stdout",
          "text": [
            "9/9 [==============================] - 0s 3ms/step - loss: 3439.6567 - mae: 3439.6567\n"
          ]
        },
        {
          "output_type": "execute_result",
          "data": {
            "text/plain": [
              "[3439.65673828125, 3439.65673828125]"
            ]
          },
          "metadata": {},
          "execution_count": 16
        }
      ]
    },
    {
      "cell_type": "code",
      "source": [
        "# building the model to predict charges with lr = 0.01\n",
        "\n",
        "tf.random.set_seed(42)\n",
        "\n",
        "model_2 = tf.keras.Sequential([\n",
        "    tf.keras.layers.Dense(100),\n",
        "    tf.keras.layers.Dense(10),\n",
        "    tf.keras.layers.Dense(1)\n",
        "])\n",
        "\n",
        "model_2.compile(optimizer = tf.keras.optimizers.Adam(learning_rate= 0.01),\n",
        "              loss = tf.keras.losses.mae,\n",
        "              metrics=[\"mae\"])\n",
        "model_2.fit(X_train_normal, y_train, epochs = 100)"
      ],
      "metadata": {
        "colab": {
          "base_uri": "https://localhost:8080/"
        },
        "id": "iHLKtwJRodc9",
        "outputId": "121f27ca-17f7-4096-9771-c90da034fb04"
      },
      "execution_count": 17,
      "outputs": [
        {
          "output_type": "stream",
          "name": "stdout",
          "text": [
            "Epoch 1/100\n",
            "34/34 [==============================] - 1s 2ms/step - loss: 13210.7656 - mae: 13210.7656\n",
            "Epoch 2/100\n",
            "34/34 [==============================] - 0s 2ms/step - loss: 11308.1855 - mae: 11308.1855\n",
            "Epoch 3/100\n",
            "34/34 [==============================] - 0s 2ms/step - loss: 8079.3784 - mae: 8079.3784\n",
            "Epoch 4/100\n",
            "34/34 [==============================] - 0s 2ms/step - loss: 7565.3179 - mae: 7565.3179\n",
            "Epoch 5/100\n",
            "34/34 [==============================] - 0s 3ms/step - loss: 7065.4009 - mae: 7065.4009\n",
            "Epoch 6/100\n",
            "34/34 [==============================] - 0s 2ms/step - loss: 6444.1318 - mae: 6444.1318\n",
            "Epoch 7/100\n",
            "34/34 [==============================] - 0s 2ms/step - loss: 5484.3506 - mae: 5484.3506\n",
            "Epoch 8/100\n",
            "34/34 [==============================] - 0s 2ms/step - loss: 4350.3608 - mae: 4350.3608\n",
            "Epoch 9/100\n",
            "34/34 [==============================] - 0s 2ms/step - loss: 3728.3147 - mae: 3728.3147\n",
            "Epoch 10/100\n",
            "34/34 [==============================] - 0s 2ms/step - loss: 3674.3245 - mae: 3674.3245\n",
            "Epoch 11/100\n",
            "34/34 [==============================] - 0s 3ms/step - loss: 3670.9062 - mae: 3670.9062\n",
            "Epoch 12/100\n",
            "34/34 [==============================] - 0s 2ms/step - loss: 3630.1584 - mae: 3630.1584\n",
            "Epoch 13/100\n",
            "34/34 [==============================] - 0s 2ms/step - loss: 3611.5288 - mae: 3611.5288\n",
            "Epoch 14/100\n",
            "34/34 [==============================] - 0s 2ms/step - loss: 3612.6880 - mae: 3612.6880\n",
            "Epoch 15/100\n",
            "34/34 [==============================] - 0s 2ms/step - loss: 3586.1711 - mae: 3586.1711\n",
            "Epoch 16/100\n",
            "34/34 [==============================] - 0s 2ms/step - loss: 3577.3555 - mae: 3577.3555\n",
            "Epoch 17/100\n",
            "34/34 [==============================] - 0s 2ms/step - loss: 3577.7000 - mae: 3577.7000\n",
            "Epoch 18/100\n",
            "34/34 [==============================] - 0s 3ms/step - loss: 3537.3279 - mae: 3537.3279\n",
            "Epoch 19/100\n",
            "34/34 [==============================] - 0s 2ms/step - loss: 3546.7881 - mae: 3546.7881\n",
            "Epoch 20/100\n",
            "34/34 [==============================] - 0s 3ms/step - loss: 3522.0508 - mae: 3522.0508\n",
            "Epoch 21/100\n",
            "34/34 [==============================] - 0s 2ms/step - loss: 3502.2668 - mae: 3502.2668\n",
            "Epoch 22/100\n",
            "34/34 [==============================] - 0s 2ms/step - loss: 3490.9324 - mae: 3490.9324\n",
            "Epoch 23/100\n",
            "34/34 [==============================] - 0s 2ms/step - loss: 3498.0220 - mae: 3498.0220\n",
            "Epoch 24/100\n",
            "34/34 [==============================] - 0s 3ms/step - loss: 3502.4795 - mae: 3502.4795\n",
            "Epoch 25/100\n",
            "34/34 [==============================] - 0s 2ms/step - loss: 3538.6152 - mae: 3538.6152\n",
            "Epoch 26/100\n",
            "34/34 [==============================] - 0s 2ms/step - loss: 3488.2107 - mae: 3488.2107\n",
            "Epoch 27/100\n",
            "34/34 [==============================] - 0s 3ms/step - loss: 3490.9368 - mae: 3490.9368\n",
            "Epoch 28/100\n",
            "34/34 [==============================] - 0s 4ms/step - loss: 3504.2244 - mae: 3504.2244\n",
            "Epoch 29/100\n",
            "34/34 [==============================] - 0s 2ms/step - loss: 3510.2100 - mae: 3510.2100\n",
            "Epoch 30/100\n",
            "34/34 [==============================] - 0s 2ms/step - loss: 3509.4856 - mae: 3509.4856\n",
            "Epoch 31/100\n",
            "34/34 [==============================] - 0s 2ms/step - loss: 3500.2395 - mae: 3500.2395\n",
            "Epoch 32/100\n",
            "34/34 [==============================] - 0s 2ms/step - loss: 3514.3806 - mae: 3514.3806\n",
            "Epoch 33/100\n",
            "34/34 [==============================] - 0s 3ms/step - loss: 3497.8833 - mae: 3497.8833\n",
            "Epoch 34/100\n",
            "34/34 [==============================] - 0s 4ms/step - loss: 3486.7039 - mae: 3486.7039\n",
            "Epoch 35/100\n",
            "34/34 [==============================] - 0s 2ms/step - loss: 3496.1086 - mae: 3496.1086\n",
            "Epoch 36/100\n",
            "34/34 [==============================] - 0s 3ms/step - loss: 3505.2886 - mae: 3505.2886\n",
            "Epoch 37/100\n",
            "34/34 [==============================] - 0s 2ms/step - loss: 3492.1440 - mae: 3492.1440\n",
            "Epoch 38/100\n",
            "34/34 [==============================] - 0s 2ms/step - loss: 3498.6426 - mae: 3498.6426\n",
            "Epoch 39/100\n",
            "34/34 [==============================] - 0s 2ms/step - loss: 3490.7930 - mae: 3490.7930\n",
            "Epoch 40/100\n",
            "34/34 [==============================] - 0s 3ms/step - loss: 3521.3682 - mae: 3521.3682\n",
            "Epoch 41/100\n",
            "34/34 [==============================] - 0s 3ms/step - loss: 3508.1636 - mae: 3508.1636\n",
            "Epoch 42/100\n",
            "34/34 [==============================] - 0s 4ms/step - loss: 3501.7961 - mae: 3501.7961\n",
            "Epoch 43/100\n",
            "34/34 [==============================] - 0s 3ms/step - loss: 3495.4680 - mae: 3495.4680\n",
            "Epoch 44/100\n",
            "34/34 [==============================] - 0s 3ms/step - loss: 3489.0542 - mae: 3489.0542\n",
            "Epoch 45/100\n",
            "34/34 [==============================] - 0s 4ms/step - loss: 3484.4141 - mae: 3484.4141\n",
            "Epoch 46/100\n",
            "34/34 [==============================] - 0s 3ms/step - loss: 3494.2278 - mae: 3494.2278\n",
            "Epoch 47/100\n",
            "34/34 [==============================] - 0s 4ms/step - loss: 3496.8682 - mae: 3496.8682\n",
            "Epoch 48/100\n",
            "34/34 [==============================] - 0s 4ms/step - loss: 3489.6763 - mae: 3489.6763\n",
            "Epoch 49/100\n",
            "34/34 [==============================] - 0s 6ms/step - loss: 3498.2292 - mae: 3498.2292\n",
            "Epoch 50/100\n",
            "34/34 [==============================] - 0s 4ms/step - loss: 3510.1875 - mae: 3510.1875\n",
            "Epoch 51/100\n",
            "34/34 [==============================] - 0s 3ms/step - loss: 3486.7087 - mae: 3486.7087\n",
            "Epoch 52/100\n",
            "34/34 [==============================] - 0s 4ms/step - loss: 3488.5295 - mae: 3488.5295\n",
            "Epoch 53/100\n",
            "34/34 [==============================] - 0s 2ms/step - loss: 3486.6619 - mae: 3486.6619\n",
            "Epoch 54/100\n",
            "34/34 [==============================] - 0s 4ms/step - loss: 3510.7520 - mae: 3510.7520\n",
            "Epoch 55/100\n",
            "34/34 [==============================] - 0s 4ms/step - loss: 3514.5439 - mae: 3514.5439\n",
            "Epoch 56/100\n",
            "34/34 [==============================] - 0s 4ms/step - loss: 3491.3547 - mae: 3491.3547\n",
            "Epoch 57/100\n",
            "34/34 [==============================] - 0s 2ms/step - loss: 3495.1973 - mae: 3495.1973\n",
            "Epoch 58/100\n",
            "34/34 [==============================] - 0s 4ms/step - loss: 3485.8259 - mae: 3485.8259\n",
            "Epoch 59/100\n",
            "34/34 [==============================] - 0s 5ms/step - loss: 3491.1436 - mae: 3491.1436\n",
            "Epoch 60/100\n",
            "34/34 [==============================] - 0s 7ms/step - loss: 3496.8840 - mae: 3496.8840\n",
            "Epoch 61/100\n",
            "34/34 [==============================] - 0s 3ms/step - loss: 3503.7332 - mae: 3503.7332\n",
            "Epoch 62/100\n",
            "34/34 [==============================] - 0s 4ms/step - loss: 3490.8606 - mae: 3490.8606\n",
            "Epoch 63/100\n",
            "34/34 [==============================] - 0s 3ms/step - loss: 3485.7473 - mae: 3485.7473\n",
            "Epoch 64/100\n",
            "34/34 [==============================] - 0s 3ms/step - loss: 3492.3064 - mae: 3492.3064\n",
            "Epoch 65/100\n",
            "34/34 [==============================] - 0s 4ms/step - loss: 3486.1580 - mae: 3486.1580\n",
            "Epoch 66/100\n",
            "34/34 [==============================] - 0s 3ms/step - loss: 3497.8655 - mae: 3497.8655\n",
            "Epoch 67/100\n",
            "34/34 [==============================] - 0s 3ms/step - loss: 3491.9736 - mae: 3491.9736\n",
            "Epoch 68/100\n",
            "34/34 [==============================] - 0s 2ms/step - loss: 3490.2598 - mae: 3490.2598\n",
            "Epoch 69/100\n",
            "34/34 [==============================] - 0s 2ms/step - loss: 3484.7383 - mae: 3484.7383\n",
            "Epoch 70/100\n",
            "34/34 [==============================] - 0s 2ms/step - loss: 3489.1426 - mae: 3489.1426\n",
            "Epoch 71/100\n",
            "34/34 [==============================] - 0s 2ms/step - loss: 3488.4292 - mae: 3488.4292\n",
            "Epoch 72/100\n",
            "34/34 [==============================] - 0s 2ms/step - loss: 3487.4402 - mae: 3487.4402\n",
            "Epoch 73/100\n",
            "34/34 [==============================] - 0s 2ms/step - loss: 3504.8872 - mae: 3504.8872\n",
            "Epoch 74/100\n",
            "34/34 [==============================] - 0s 2ms/step - loss: 3500.4783 - mae: 3500.4783\n",
            "Epoch 75/100\n",
            "34/34 [==============================] - 0s 2ms/step - loss: 3482.6323 - mae: 3482.6323\n",
            "Epoch 76/100\n",
            "34/34 [==============================] - 0s 3ms/step - loss: 3493.4636 - mae: 3493.4636\n",
            "Epoch 77/100\n",
            "34/34 [==============================] - 0s 4ms/step - loss: 3483.5864 - mae: 3483.5864\n",
            "Epoch 78/100\n",
            "34/34 [==============================] - 0s 3ms/step - loss: 3491.7812 - mae: 3491.7812\n",
            "Epoch 79/100\n",
            "34/34 [==============================] - 0s 3ms/step - loss: 3497.4214 - mae: 3497.4214\n",
            "Epoch 80/100\n",
            "34/34 [==============================] - 0s 3ms/step - loss: 3502.9260 - mae: 3502.9260\n",
            "Epoch 81/100\n",
            "34/34 [==============================] - 0s 3ms/step - loss: 3499.0706 - mae: 3499.0706\n",
            "Epoch 82/100\n",
            "34/34 [==============================] - 0s 2ms/step - loss: 3494.2532 - mae: 3494.2532\n",
            "Epoch 83/100\n",
            "34/34 [==============================] - 0s 2ms/step - loss: 3490.7498 - mae: 3490.7498\n",
            "Epoch 84/100\n",
            "34/34 [==============================] - 0s 2ms/step - loss: 3497.9290 - mae: 3497.9290\n",
            "Epoch 85/100\n",
            "34/34 [==============================] - 0s 2ms/step - loss: 3480.1038 - mae: 3480.1038\n",
            "Epoch 86/100\n",
            "34/34 [==============================] - 0s 4ms/step - loss: 3486.6824 - mae: 3486.6824\n",
            "Epoch 87/100\n",
            "34/34 [==============================] - 0s 5ms/step - loss: 3486.0095 - mae: 3486.0095\n",
            "Epoch 88/100\n",
            "34/34 [==============================] - 0s 4ms/step - loss: 3485.1763 - mae: 3485.1763\n",
            "Epoch 89/100\n",
            "34/34 [==============================] - 0s 2ms/step - loss: 3496.6711 - mae: 3496.6711\n",
            "Epoch 90/100\n",
            "34/34 [==============================] - 0s 3ms/step - loss: 3489.8674 - mae: 3489.8674\n",
            "Epoch 91/100\n",
            "34/34 [==============================] - 0s 3ms/step - loss: 3490.7070 - mae: 3490.7070\n",
            "Epoch 92/100\n",
            "34/34 [==============================] - 0s 3ms/step - loss: 3497.4150 - mae: 3497.4150\n",
            "Epoch 93/100\n",
            "34/34 [==============================] - 0s 2ms/step - loss: 3492.2485 - mae: 3492.2485\n",
            "Epoch 94/100\n",
            "34/34 [==============================] - 0s 3ms/step - loss: 3484.3486 - mae: 3484.3486\n",
            "Epoch 95/100\n",
            "34/34 [==============================] - 0s 3ms/step - loss: 3491.4512 - mae: 3491.4512\n",
            "Epoch 96/100\n",
            "34/34 [==============================] - 0s 2ms/step - loss: 3488.2861 - mae: 3488.2861\n",
            "Epoch 97/100\n",
            "34/34 [==============================] - 0s 2ms/step - loss: 3508.7119 - mae: 3508.7119\n",
            "Epoch 98/100\n",
            "34/34 [==============================] - 0s 3ms/step - loss: 3484.4070 - mae: 3484.4070\n",
            "Epoch 99/100\n",
            "34/34 [==============================] - 0s 3ms/step - loss: 3510.6958 - mae: 3510.6958\n",
            "Epoch 100/100\n",
            "34/34 [==============================] - 0s 2ms/step - loss: 3503.3125 - mae: 3503.3125\n"
          ]
        },
        {
          "output_type": "execute_result",
          "data": {
            "text/plain": [
              "<keras.callbacks.History at 0x7f2e821331c0>"
            ]
          },
          "metadata": {},
          "execution_count": 17
        }
      ]
    },
    {
      "cell_type": "code",
      "source": [
        "model_2.evaluate(X_test_normal, y_test)"
      ],
      "metadata": {
        "colab": {
          "base_uri": "https://localhost:8080/"
        },
        "id": "494_Plfcp2W6",
        "outputId": "5511a90a-aec0-49b8-f716-69d6cb5446a7"
      },
      "execution_count": 18,
      "outputs": [
        {
          "output_type": "stream",
          "name": "stdout",
          "text": [
            "9/9 [==============================] - 0s 2ms/step - loss: 3179.4993 - mae: 3179.4993\n"
          ]
        },
        {
          "output_type": "execute_result",
          "data": {
            "text/plain": [
              "[3179.499267578125, 3179.499267578125]"
            ]
          },
          "metadata": {},
          "execution_count": 18
        }
      ]
    },
    {
      "cell_type": "code",
      "source": [
        "# changing the model, increasing the number of epochs to 200\n",
        "\n",
        "tf.random.set_seed(42)\n",
        "\n",
        "model_3 = tf.keras.Sequential([\n",
        "    tf.keras.layers.Dense(100),\n",
        "    tf.keras.layers.Dense(10),\n",
        "    tf.keras.layers.Dense(1)\n",
        "])\n",
        "\n",
        "model_3.compile(optimizer = tf.keras.optimizers.Adam(learning_rate= 0.01),\n",
        "              loss = tf.keras.losses.mae,\n",
        "              metrics=[\"mae\"])\n",
        "model_3.fit(X_train_normal, y_train, epochs = 200)"
      ],
      "metadata": {
        "colab": {
          "base_uri": "https://localhost:8080/"
        },
        "id": "2chIkgmvcI6q",
        "outputId": "6f26cb43-375f-46ec-9aa7-f0ec0b076bce"
      },
      "execution_count": 19,
      "outputs": [
        {
          "output_type": "stream",
          "name": "stdout",
          "text": [
            "Epoch 1/200\n",
            "34/34 [==============================] - 1s 2ms/step - loss: 13228.6816 - mae: 13228.6816\n",
            "Epoch 2/200\n",
            "34/34 [==============================] - 0s 2ms/step - loss: 11426.5742 - mae: 11426.5742\n",
            "Epoch 3/200\n",
            "34/34 [==============================] - 0s 3ms/step - loss: 8117.1167 - mae: 8117.1167\n",
            "Epoch 4/200\n",
            "34/34 [==============================] - 0s 2ms/step - loss: 7578.1421 - mae: 7578.1421\n",
            "Epoch 5/200\n",
            "34/34 [==============================] - 0s 3ms/step - loss: 7086.9155 - mae: 7086.9155\n",
            "Epoch 6/200\n",
            "34/34 [==============================] - 0s 2ms/step - loss: 6485.0664 - mae: 6485.0664\n",
            "Epoch 7/200\n",
            "34/34 [==============================] - 0s 2ms/step - loss: 5550.6245 - mae: 5550.6245\n",
            "Epoch 8/200\n",
            "34/34 [==============================] - 0s 2ms/step - loss: 4398.6421 - mae: 4398.6421\n",
            "Epoch 9/200\n",
            "34/34 [==============================] - 0s 2ms/step - loss: 3740.1870 - mae: 3740.1870\n",
            "Epoch 10/200\n",
            "34/34 [==============================] - 0s 2ms/step - loss: 3673.8879 - mae: 3673.8879\n",
            "Epoch 11/200\n",
            "34/34 [==============================] - 0s 2ms/step - loss: 3667.6177 - mae: 3667.6177\n",
            "Epoch 12/200\n",
            "34/34 [==============================] - 0s 2ms/step - loss: 3627.7253 - mae: 3627.7253\n",
            "Epoch 13/200\n",
            "34/34 [==============================] - 0s 3ms/step - loss: 3609.3984 - mae: 3609.3984\n",
            "Epoch 14/200\n",
            "34/34 [==============================] - 0s 2ms/step - loss: 3611.8108 - mae: 3611.8108\n",
            "Epoch 15/200\n",
            "34/34 [==============================] - 0s 1ms/step - loss: 3584.3076 - mae: 3584.3076\n",
            "Epoch 16/200\n",
            "34/34 [==============================] - 0s 1ms/step - loss: 3576.3691 - mae: 3576.3691\n",
            "Epoch 17/200\n",
            "34/34 [==============================] - 0s 1ms/step - loss: 3574.3027 - mae: 3574.3027\n",
            "Epoch 18/200\n",
            "34/34 [==============================] - 0s 1ms/step - loss: 3537.7734 - mae: 3537.7734\n",
            "Epoch 19/200\n",
            "34/34 [==============================] - 0s 1ms/step - loss: 3548.3826 - mae: 3548.3826\n",
            "Epoch 20/200\n",
            "34/34 [==============================] - 0s 1ms/step - loss: 3521.2034 - mae: 3521.2034\n",
            "Epoch 21/200\n",
            "34/34 [==============================] - 0s 1ms/step - loss: 3500.7922 - mae: 3500.7922\n",
            "Epoch 22/200\n",
            "34/34 [==============================] - 0s 1ms/step - loss: 3491.8730 - mae: 3491.8730\n",
            "Epoch 23/200\n",
            "34/34 [==============================] - 0s 1ms/step - loss: 3497.4243 - mae: 3497.4243\n",
            "Epoch 24/200\n",
            "34/34 [==============================] - 0s 1ms/step - loss: 3502.2012 - mae: 3502.2012\n",
            "Epoch 25/200\n",
            "34/34 [==============================] - 0s 1ms/step - loss: 3529.0957 - mae: 3529.0957\n",
            "Epoch 26/200\n",
            "34/34 [==============================] - 0s 1ms/step - loss: 3487.5037 - mae: 3487.5037\n",
            "Epoch 27/200\n",
            "34/34 [==============================] - 0s 1ms/step - loss: 3491.6047 - mae: 3491.6047\n",
            "Epoch 28/200\n",
            "34/34 [==============================] - 0s 1ms/step - loss: 3505.5251 - mae: 3505.5251\n",
            "Epoch 29/200\n",
            "34/34 [==============================] - 0s 2ms/step - loss: 3507.6260 - mae: 3507.6260\n",
            "Epoch 30/200\n",
            "34/34 [==============================] - 0s 1ms/step - loss: 3507.8879 - mae: 3507.8879\n",
            "Epoch 31/200\n",
            "34/34 [==============================] - 0s 1ms/step - loss: 3505.1646 - mae: 3505.1646\n",
            "Epoch 32/200\n",
            "34/34 [==============================] - 0s 1ms/step - loss: 3512.9617 - mae: 3512.9617\n",
            "Epoch 33/200\n",
            "34/34 [==============================] - 0s 1ms/step - loss: 3501.0432 - mae: 3501.0432\n",
            "Epoch 34/200\n",
            "34/34 [==============================] - 0s 2ms/step - loss: 3489.6829 - mae: 3489.6829\n",
            "Epoch 35/200\n",
            "34/34 [==============================] - 0s 2ms/step - loss: 3493.2561 - mae: 3493.2561\n",
            "Epoch 36/200\n",
            "34/34 [==============================] - 0s 1ms/step - loss: 3511.9199 - mae: 3511.9199\n",
            "Epoch 37/200\n",
            "34/34 [==============================] - 0s 1ms/step - loss: 3491.5884 - mae: 3491.5884\n",
            "Epoch 38/200\n",
            "34/34 [==============================] - 0s 1ms/step - loss: 3500.9060 - mae: 3500.9060\n",
            "Epoch 39/200\n",
            "34/34 [==============================] - 0s 1ms/step - loss: 3490.2092 - mae: 3490.2092\n",
            "Epoch 40/200\n",
            "34/34 [==============================] - 0s 1ms/step - loss: 3532.0088 - mae: 3532.0088\n",
            "Epoch 41/200\n",
            "34/34 [==============================] - 0s 1ms/step - loss: 3510.2644 - mae: 3510.2644\n",
            "Epoch 42/200\n",
            "34/34 [==============================] - 0s 1ms/step - loss: 3499.2197 - mae: 3499.2197\n",
            "Epoch 43/200\n",
            "34/34 [==============================] - 0s 1ms/step - loss: 3491.2993 - mae: 3491.2993\n",
            "Epoch 44/200\n",
            "34/34 [==============================] - 0s 1ms/step - loss: 3488.1599 - mae: 3488.1599\n",
            "Epoch 45/200\n",
            "34/34 [==============================] - 0s 1ms/step - loss: 3481.8665 - mae: 3481.8665\n",
            "Epoch 46/200\n",
            "34/34 [==============================] - 0s 1ms/step - loss: 3494.2686 - mae: 3494.2686\n",
            "Epoch 47/200\n",
            "34/34 [==============================] - 0s 1ms/step - loss: 3495.0710 - mae: 3495.0710\n",
            "Epoch 48/200\n",
            "34/34 [==============================] - 0s 1ms/step - loss: 3490.4839 - mae: 3490.4839\n",
            "Epoch 49/200\n",
            "34/34 [==============================] - 0s 1ms/step - loss: 3500.6704 - mae: 3500.6704\n",
            "Epoch 50/200\n",
            "34/34 [==============================] - 0s 1ms/step - loss: 3506.4055 - mae: 3506.4055\n",
            "Epoch 51/200\n",
            "34/34 [==============================] - 0s 1ms/step - loss: 3484.9177 - mae: 3484.9177\n",
            "Epoch 52/200\n",
            "34/34 [==============================] - 0s 1ms/step - loss: 3491.3755 - mae: 3491.3755\n",
            "Epoch 53/200\n",
            "34/34 [==============================] - 0s 1ms/step - loss: 3488.0244 - mae: 3488.0244\n",
            "Epoch 54/200\n",
            "34/34 [==============================] - 0s 1ms/step - loss: 3508.1602 - mae: 3508.1602\n",
            "Epoch 55/200\n",
            "34/34 [==============================] - 0s 2ms/step - loss: 3514.4592 - mae: 3514.4592\n",
            "Epoch 56/200\n",
            "34/34 [==============================] - 0s 1ms/step - loss: 3490.7668 - mae: 3490.7668\n",
            "Epoch 57/200\n",
            "34/34 [==============================] - 0s 1ms/step - loss: 3493.1973 - mae: 3493.1973\n",
            "Epoch 58/200\n",
            "34/34 [==============================] - 0s 1ms/step - loss: 3485.4209 - mae: 3485.4209\n",
            "Epoch 59/200\n",
            "34/34 [==============================] - 0s 1ms/step - loss: 3486.8228 - mae: 3486.8228\n",
            "Epoch 60/200\n",
            "34/34 [==============================] - 0s 1ms/step - loss: 3492.9048 - mae: 3492.9048\n",
            "Epoch 61/200\n",
            "34/34 [==============================] - 0s 1ms/step - loss: 3500.3015 - mae: 3500.3015\n",
            "Epoch 62/200\n",
            "34/34 [==============================] - 0s 1ms/step - loss: 3492.7366 - mae: 3492.7366\n",
            "Epoch 63/200\n",
            "34/34 [==============================] - 0s 1ms/step - loss: 3487.8115 - mae: 3487.8115\n",
            "Epoch 64/200\n",
            "34/34 [==============================] - 0s 1ms/step - loss: 3491.9597 - mae: 3491.9597\n",
            "Epoch 65/200\n",
            "34/34 [==============================] - 0s 1ms/step - loss: 3483.7644 - mae: 3483.7644\n",
            "Epoch 66/200\n",
            "34/34 [==============================] - 0s 1ms/step - loss: 3497.7571 - mae: 3497.7571\n",
            "Epoch 67/200\n",
            "34/34 [==============================] - 0s 1ms/step - loss: 3489.9458 - mae: 3489.9458\n",
            "Epoch 68/200\n",
            "34/34 [==============================] - 0s 1ms/step - loss: 3491.7144 - mae: 3491.7144\n",
            "Epoch 69/200\n",
            "34/34 [==============================] - 0s 1ms/step - loss: 3483.7373 - mae: 3483.7373\n",
            "Epoch 70/200\n",
            "34/34 [==============================] - 0s 1ms/step - loss: 3489.0786 - mae: 3489.0786\n",
            "Epoch 71/200\n",
            "34/34 [==============================] - 0s 1ms/step - loss: 3487.7109 - mae: 3487.7109\n",
            "Epoch 72/200\n",
            "34/34 [==============================] - 0s 1ms/step - loss: 3487.6609 - mae: 3487.6609\n",
            "Epoch 73/200\n",
            "34/34 [==============================] - 0s 1ms/step - loss: 3502.7419 - mae: 3502.7419\n",
            "Epoch 74/200\n",
            "34/34 [==============================] - 0s 1ms/step - loss: 3496.6873 - mae: 3496.6873\n",
            "Epoch 75/200\n",
            "34/34 [==============================] - 0s 1ms/step - loss: 3482.6470 - mae: 3482.6470\n",
            "Epoch 76/200\n",
            "34/34 [==============================] - 0s 1ms/step - loss: 3495.5835 - mae: 3495.5835\n",
            "Epoch 77/200\n",
            "34/34 [==============================] - 0s 1ms/step - loss: 3483.5442 - mae: 3483.5442\n",
            "Epoch 78/200\n",
            "34/34 [==============================] - 0s 1ms/step - loss: 3493.1851 - mae: 3493.1851\n",
            "Epoch 79/200\n",
            "34/34 [==============================] - 0s 1ms/step - loss: 3500.1140 - mae: 3500.1140\n",
            "Epoch 80/200\n",
            "34/34 [==============================] - 0s 1ms/step - loss: 3500.9048 - mae: 3500.9048\n",
            "Epoch 81/200\n",
            "34/34 [==============================] - 0s 1ms/step - loss: 3499.2803 - mae: 3499.2803\n",
            "Epoch 82/200\n",
            "34/34 [==============================] - 0s 1ms/step - loss: 3494.0098 - mae: 3494.0098\n",
            "Epoch 83/200\n",
            "34/34 [==============================] - 0s 1ms/step - loss: 3492.8450 - mae: 3492.8450\n",
            "Epoch 84/200\n",
            "34/34 [==============================] - 0s 1ms/step - loss: 3500.2817 - mae: 3500.2817\n",
            "Epoch 85/200\n",
            "34/34 [==============================] - 0s 1ms/step - loss: 3483.3074 - mae: 3483.3074\n",
            "Epoch 86/200\n",
            "34/34 [==============================] - 0s 1ms/step - loss: 3485.5857 - mae: 3485.5857\n",
            "Epoch 87/200\n",
            "34/34 [==============================] - 0s 1ms/step - loss: 3488.3748 - mae: 3488.3748\n",
            "Epoch 88/200\n",
            "34/34 [==============================] - 0s 1ms/step - loss: 3485.5740 - mae: 3485.5740\n",
            "Epoch 89/200\n",
            "34/34 [==============================] - 0s 1ms/step - loss: 3499.4104 - mae: 3499.4104\n",
            "Epoch 90/200\n",
            "34/34 [==============================] - 0s 2ms/step - loss: 3494.5640 - mae: 3494.5640\n",
            "Epoch 91/200\n",
            "34/34 [==============================] - 0s 1ms/step - loss: 3488.4355 - mae: 3488.4355\n",
            "Epoch 92/200\n",
            "34/34 [==============================] - 0s 1ms/step - loss: 3495.5806 - mae: 3495.5806\n",
            "Epoch 93/200\n",
            "34/34 [==============================] - 0s 1ms/step - loss: 3495.7563 - mae: 3495.7563\n",
            "Epoch 94/200\n",
            "34/34 [==============================] - 0s 1ms/step - loss: 3490.3157 - mae: 3490.3157\n",
            "Epoch 95/200\n",
            "34/34 [==============================] - 0s 1ms/step - loss: 3489.2988 - mae: 3489.2988\n",
            "Epoch 96/200\n",
            "34/34 [==============================] - 0s 1ms/step - loss: 3490.2302 - mae: 3490.2302\n",
            "Epoch 97/200\n",
            "34/34 [==============================] - 0s 2ms/step - loss: 3509.4871 - mae: 3509.4871\n",
            "Epoch 98/200\n",
            "34/34 [==============================] - 0s 2ms/step - loss: 3484.1582 - mae: 3484.1582\n",
            "Epoch 99/200\n",
            "34/34 [==============================] - 0s 2ms/step - loss: 3505.0649 - mae: 3505.0649\n",
            "Epoch 100/200\n",
            "34/34 [==============================] - 0s 2ms/step - loss: 3499.3379 - mae: 3499.3379\n",
            "Epoch 101/200\n",
            "34/34 [==============================] - 0s 2ms/step - loss: 3489.7976 - mae: 3489.7976\n",
            "Epoch 102/200\n",
            "34/34 [==============================] - 0s 2ms/step - loss: 3496.5117 - mae: 3496.5117\n",
            "Epoch 103/200\n",
            "34/34 [==============================] - 0s 1ms/step - loss: 3516.8416 - mae: 3516.8416\n",
            "Epoch 104/200\n",
            "34/34 [==============================] - 0s 2ms/step - loss: 3481.9866 - mae: 3481.9866\n",
            "Epoch 105/200\n",
            "34/34 [==============================] - 0s 2ms/step - loss: 3508.4114 - mae: 3508.4114\n",
            "Epoch 106/200\n",
            "34/34 [==============================] - 0s 2ms/step - loss: 3492.3467 - mae: 3492.3467\n",
            "Epoch 107/200\n",
            "34/34 [==============================] - 0s 1ms/step - loss: 3482.5500 - mae: 3482.5500\n",
            "Epoch 108/200\n",
            "34/34 [==============================] - 0s 2ms/step - loss: 3490.7908 - mae: 3490.7908\n",
            "Epoch 109/200\n",
            "34/34 [==============================] - 0s 2ms/step - loss: 3493.0056 - mae: 3493.0056\n",
            "Epoch 110/200\n",
            "34/34 [==============================] - 0s 2ms/step - loss: 3482.8264 - mae: 3482.8264\n",
            "Epoch 111/200\n",
            "34/34 [==============================] - 0s 1ms/step - loss: 3504.1599 - mae: 3504.1599\n",
            "Epoch 112/200\n",
            "34/34 [==============================] - 0s 2ms/step - loss: 3498.7908 - mae: 3498.7908\n",
            "Epoch 113/200\n",
            "34/34 [==============================] - 0s 2ms/step - loss: 3505.3408 - mae: 3505.3408\n",
            "Epoch 114/200\n",
            "34/34 [==============================] - 0s 2ms/step - loss: 3492.8547 - mae: 3492.8547\n",
            "Epoch 115/200\n",
            "34/34 [==============================] - 0s 2ms/step - loss: 3497.7812 - mae: 3497.7812\n",
            "Epoch 116/200\n",
            "34/34 [==============================] - 0s 2ms/step - loss: 3504.1663 - mae: 3504.1663\n",
            "Epoch 117/200\n",
            "34/34 [==============================] - 0s 2ms/step - loss: 3489.8792 - mae: 3489.8792\n",
            "Epoch 118/200\n",
            "34/34 [==============================] - 0s 2ms/step - loss: 3486.7756 - mae: 3486.7756\n",
            "Epoch 119/200\n",
            "34/34 [==============================] - 0s 2ms/step - loss: 3488.6650 - mae: 3488.6650\n",
            "Epoch 120/200\n",
            "34/34 [==============================] - 0s 2ms/step - loss: 3489.5430 - mae: 3489.5430\n",
            "Epoch 121/200\n",
            "34/34 [==============================] - 0s 2ms/step - loss: 3497.2351 - mae: 3497.2351\n",
            "Epoch 122/200\n",
            "34/34 [==============================] - 0s 2ms/step - loss: 3500.5222 - mae: 3500.5222\n",
            "Epoch 123/200\n",
            "34/34 [==============================] - 0s 2ms/step - loss: 3504.4365 - mae: 3504.4365\n",
            "Epoch 124/200\n",
            "34/34 [==============================] - 0s 2ms/step - loss: 3484.6431 - mae: 3484.6431\n",
            "Epoch 125/200\n",
            "34/34 [==============================] - 0s 2ms/step - loss: 3504.9043 - mae: 3504.9043\n",
            "Epoch 126/200\n",
            "34/34 [==============================] - 0s 2ms/step - loss: 3512.4412 - mae: 3512.4412\n",
            "Epoch 127/200\n",
            "34/34 [==============================] - 0s 2ms/step - loss: 3498.3835 - mae: 3498.3835\n",
            "Epoch 128/200\n",
            "34/34 [==============================] - 0s 2ms/step - loss: 3497.9536 - mae: 3497.9536\n",
            "Epoch 129/200\n",
            "34/34 [==============================] - 0s 1ms/step - loss: 3516.5461 - mae: 3516.5461\n",
            "Epoch 130/200\n",
            "34/34 [==============================] - 0s 1ms/step - loss: 3503.4763 - mae: 3503.4763\n",
            "Epoch 131/200\n",
            "34/34 [==============================] - 0s 1ms/step - loss: 3485.5322 - mae: 3485.5322\n",
            "Epoch 132/200\n",
            "34/34 [==============================] - 0s 1ms/step - loss: 3491.6672 - mae: 3491.6672\n",
            "Epoch 133/200\n",
            "34/34 [==============================] - 0s 1ms/step - loss: 3484.0422 - mae: 3484.0422\n",
            "Epoch 134/200\n",
            "34/34 [==============================] - 0s 1ms/step - loss: 3489.1504 - mae: 3489.1504\n",
            "Epoch 135/200\n",
            "34/34 [==============================] - 0s 1ms/step - loss: 3492.4751 - mae: 3492.4751\n",
            "Epoch 136/200\n",
            "34/34 [==============================] - 0s 1ms/step - loss: 3481.9968 - mae: 3481.9968\n",
            "Epoch 137/200\n",
            "34/34 [==============================] - 0s 1ms/step - loss: 3489.3564 - mae: 3489.3564\n",
            "Epoch 138/200\n",
            "34/34 [==============================] - 0s 1ms/step - loss: 3493.9526 - mae: 3493.9526\n",
            "Epoch 139/200\n",
            "34/34 [==============================] - 0s 1ms/step - loss: 3487.5171 - mae: 3487.5171\n",
            "Epoch 140/200\n",
            "34/34 [==============================] - 0s 1ms/step - loss: 3492.3225 - mae: 3492.3225\n",
            "Epoch 141/200\n",
            "34/34 [==============================] - 0s 1ms/step - loss: 3502.1946 - mae: 3502.1946\n",
            "Epoch 142/200\n",
            "34/34 [==============================] - 0s 1ms/step - loss: 3498.7534 - mae: 3498.7534\n",
            "Epoch 143/200\n",
            "34/34 [==============================] - 0s 1ms/step - loss: 3481.5400 - mae: 3481.5400\n",
            "Epoch 144/200\n",
            "34/34 [==============================] - 0s 1ms/step - loss: 3504.1509 - mae: 3504.1509\n",
            "Epoch 145/200\n",
            "34/34 [==============================] - 0s 1ms/step - loss: 3495.2336 - mae: 3495.2336\n",
            "Epoch 146/200\n",
            "34/34 [==============================] - 0s 1ms/step - loss: 3505.2241 - mae: 3505.2241\n",
            "Epoch 147/200\n",
            "34/34 [==============================] - 0s 1ms/step - loss: 3523.5281 - mae: 3523.5281\n",
            "Epoch 148/200\n",
            "34/34 [==============================] - 0s 1ms/step - loss: 3493.9739 - mae: 3493.9739\n",
            "Epoch 149/200\n",
            "34/34 [==============================] - 0s 1ms/step - loss: 3495.3542 - mae: 3495.3542\n",
            "Epoch 150/200\n",
            "34/34 [==============================] - 0s 1ms/step - loss: 3486.6052 - mae: 3486.6052\n",
            "Epoch 151/200\n",
            "34/34 [==============================] - 0s 1ms/step - loss: 3502.0779 - mae: 3502.0779\n",
            "Epoch 152/200\n",
            "34/34 [==============================] - 0s 1ms/step - loss: 3496.6165 - mae: 3496.6165\n",
            "Epoch 153/200\n",
            "34/34 [==============================] - 0s 1ms/step - loss: 3499.7495 - mae: 3499.7495\n",
            "Epoch 154/200\n",
            "34/34 [==============================] - 0s 1ms/step - loss: 3491.3757 - mae: 3491.3757\n",
            "Epoch 155/200\n",
            "34/34 [==============================] - 0s 2ms/step - loss: 3498.2969 - mae: 3498.2969\n",
            "Epoch 156/200\n",
            "34/34 [==============================] - 0s 1ms/step - loss: 3487.9514 - mae: 3487.9514\n",
            "Epoch 157/200\n",
            "34/34 [==============================] - 0s 1ms/step - loss: 3511.6458 - mae: 3511.6458\n",
            "Epoch 158/200\n",
            "34/34 [==============================] - 0s 1ms/step - loss: 3497.8276 - mae: 3497.8276\n",
            "Epoch 159/200\n",
            "34/34 [==============================] - 0s 1ms/step - loss: 3480.7615 - mae: 3480.7615\n",
            "Epoch 160/200\n",
            "34/34 [==============================] - 0s 1ms/step - loss: 3500.1172 - mae: 3500.1172\n",
            "Epoch 161/200\n",
            "34/34 [==============================] - 0s 1ms/step - loss: 3493.8582 - mae: 3493.8582\n",
            "Epoch 162/200\n",
            "34/34 [==============================] - 0s 1ms/step - loss: 3487.3608 - mae: 3487.3608\n",
            "Epoch 163/200\n",
            "34/34 [==============================] - 0s 1ms/step - loss: 3487.6345 - mae: 3487.6345\n",
            "Epoch 164/200\n",
            "34/34 [==============================] - 0s 1ms/step - loss: 3493.4895 - mae: 3493.4895\n",
            "Epoch 165/200\n",
            "34/34 [==============================] - 0s 1ms/step - loss: 3483.4189 - mae: 3483.4189\n",
            "Epoch 166/200\n",
            "34/34 [==============================] - 0s 1ms/step - loss: 3485.0803 - mae: 3485.0803\n",
            "Epoch 167/200\n",
            "34/34 [==============================] - 0s 1ms/step - loss: 3500.7947 - mae: 3500.7947\n",
            "Epoch 168/200\n",
            "34/34 [==============================] - 0s 1ms/step - loss: 3492.8479 - mae: 3492.8479\n",
            "Epoch 169/200\n",
            "34/34 [==============================] - 0s 1ms/step - loss: 3486.8464 - mae: 3486.8464\n",
            "Epoch 170/200\n",
            "34/34 [==============================] - 0s 1ms/step - loss: 3486.9863 - mae: 3486.9863\n",
            "Epoch 171/200\n",
            "34/34 [==============================] - 0s 1ms/step - loss: 3499.8542 - mae: 3499.8542\n",
            "Epoch 172/200\n",
            "34/34 [==============================] - 0s 1ms/step - loss: 3496.7168 - mae: 3496.7168\n",
            "Epoch 173/200\n",
            "34/34 [==============================] - 0s 1ms/step - loss: 3491.4324 - mae: 3491.4324\n",
            "Epoch 174/200\n",
            "34/34 [==============================] - 0s 1ms/step - loss: 3492.5737 - mae: 3492.5737\n",
            "Epoch 175/200\n",
            "34/34 [==============================] - 0s 1ms/step - loss: 3482.6477 - mae: 3482.6477\n",
            "Epoch 176/200\n",
            "34/34 [==============================] - 0s 1ms/step - loss: 3512.4324 - mae: 3512.4324\n",
            "Epoch 177/200\n",
            "34/34 [==============================] - 0s 1ms/step - loss: 3505.3604 - mae: 3505.3604\n",
            "Epoch 178/200\n",
            "34/34 [==============================] - 0s 1ms/step - loss: 3482.8462 - mae: 3482.8462\n",
            "Epoch 179/200\n",
            "34/34 [==============================] - 0s 1ms/step - loss: 3511.4343 - mae: 3511.4343\n",
            "Epoch 180/200\n",
            "34/34 [==============================] - 0s 2ms/step - loss: 3507.2700 - mae: 3507.2700\n",
            "Epoch 181/200\n",
            "34/34 [==============================] - 0s 1ms/step - loss: 3495.7554 - mae: 3495.7554\n",
            "Epoch 182/200\n",
            "34/34 [==============================] - 0s 1ms/step - loss: 3494.7378 - mae: 3494.7378\n",
            "Epoch 183/200\n",
            "34/34 [==============================] - 0s 1ms/step - loss: 3489.3452 - mae: 3489.3452\n",
            "Epoch 184/200\n",
            "34/34 [==============================] - 0s 1ms/step - loss: 3503.2429 - mae: 3503.2429\n",
            "Epoch 185/200\n",
            "34/34 [==============================] - 0s 1ms/step - loss: 3496.2439 - mae: 3496.2439\n",
            "Epoch 186/200\n",
            "34/34 [==============================] - 0s 1ms/step - loss: 3514.8694 - mae: 3514.8694\n",
            "Epoch 187/200\n",
            "34/34 [==============================] - 0s 2ms/step - loss: 3503.5571 - mae: 3503.5571\n",
            "Epoch 188/200\n",
            "34/34 [==============================] - 0s 1ms/step - loss: 3492.0037 - mae: 3492.0037\n",
            "Epoch 189/200\n",
            "34/34 [==============================] - 0s 1ms/step - loss: 3490.8589 - mae: 3490.8589\n",
            "Epoch 190/200\n",
            "34/34 [==============================] - 0s 1ms/step - loss: 3499.2937 - mae: 3499.2937\n",
            "Epoch 191/200\n",
            "34/34 [==============================] - 0s 1ms/step - loss: 3513.1882 - mae: 3513.1882\n",
            "Epoch 192/200\n",
            "34/34 [==============================] - 0s 1ms/step - loss: 3492.0234 - mae: 3492.0234\n",
            "Epoch 193/200\n",
            "34/34 [==============================] - 0s 1ms/step - loss: 3494.7810 - mae: 3494.7810\n",
            "Epoch 194/200\n",
            "34/34 [==============================] - 0s 1ms/step - loss: 3499.5562 - mae: 3499.5562\n",
            "Epoch 195/200\n",
            "34/34 [==============================] - 0s 2ms/step - loss: 3483.1753 - mae: 3483.1753\n",
            "Epoch 196/200\n",
            "34/34 [==============================] - 0s 1ms/step - loss: 3502.5120 - mae: 3502.5120\n",
            "Epoch 197/200\n",
            "34/34 [==============================] - 0s 1ms/step - loss: 3491.8225 - mae: 3491.8225\n",
            "Epoch 198/200\n",
            "34/34 [==============================] - 0s 1ms/step - loss: 3509.1089 - mae: 3509.1089\n",
            "Epoch 199/200\n",
            "34/34 [==============================] - 0s 1ms/step - loss: 3494.7312 - mae: 3494.7312\n",
            "Epoch 200/200\n",
            "34/34 [==============================] - 0s 1ms/step - loss: 3485.4668 - mae: 3485.4668\n"
          ]
        },
        {
          "output_type": "execute_result",
          "data": {
            "text/plain": [
              "<keras.callbacks.History at 0x7f2e828726d0>"
            ]
          },
          "metadata": {},
          "execution_count": 19
        }
      ]
    },
    {
      "cell_type": "code",
      "source": [
        "model_2.evaluate(X_test_normal, y_test)"
      ],
      "metadata": {
        "colab": {
          "base_uri": "https://localhost:8080/"
        },
        "id": "CQi_3026cIyA",
        "outputId": "c9b90294-8956-4386-f429-172df94d7f4b"
      },
      "execution_count": 20,
      "outputs": [
        {
          "output_type": "stream",
          "name": "stdout",
          "text": [
            "9/9 [==============================] - 0s 1ms/step - loss: 3179.4993 - mae: 3179.4993\n"
          ]
        },
        {
          "output_type": "execute_result",
          "data": {
            "text/plain": [
              "[3179.499267578125, 3179.499267578125]"
            ]
          },
          "metadata": {},
          "execution_count": 20
        }
      ]
    },
    {
      "cell_type": "code",
      "source": [
        "# adding activation function\n",
        "tf.random.set_seed(42)\n",
        "\n",
        "model_4 = tf.keras.Sequential([\n",
        "    tf.keras.layers.Dense(100, activation = \"relu\"),\n",
        "    tf.keras.layers.Dense(10, activation = \"relu\"),\n",
        "    tf.keras.layers.Dense(1, activation = \"relu\"),\n",
        "])\n",
        "\n",
        "model_4.compile(optimizer = tf.keras.optimizers.Adam(learning_rate= 0.01),\n",
        "              loss = tf.keras.losses.mae,\n",
        "              metrics=[\"mae\"])\n",
        "model_4.fit(X_train_normal, y_train, epochs = 200, verbose = 0)"
      ],
      "metadata": {
        "colab": {
          "base_uri": "https://localhost:8080/"
        },
        "id": "sVwtEcLKcIoA",
        "outputId": "7d06d06f-9ed7-4d16-b9d5-4cda3b5e8f5c"
      },
      "execution_count": 21,
      "outputs": [
        {
          "output_type": "execute_result",
          "data": {
            "text/plain": [
              "<keras.callbacks.History at 0x7f2e828015e0>"
            ]
          },
          "metadata": {},
          "execution_count": 21
        }
      ]
    },
    {
      "cell_type": "code",
      "source": [
        "model_4.evaluate(X_test_normal, y_test)"
      ],
      "metadata": {
        "colab": {
          "base_uri": "https://localhost:8080/"
        },
        "id": "qV44F88_cuNF",
        "outputId": "a7f908ef-f7e3-404b-b0d8-72315c9e1210"
      },
      "execution_count": 22,
      "outputs": [
        {
          "output_type": "stream",
          "name": "stdout",
          "text": [
            "9/9 [==============================] - 0s 1ms/step - loss: 1965.5947 - mae: 1965.5947\n"
          ]
        },
        {
          "output_type": "execute_result",
          "data": {
            "text/plain": [
              "[1965.5947265625, 1965.5947265625]"
            ]
          },
          "metadata": {},
          "execution_count": 22
        }
      ]
    },
    {
      "cell_type": "code",
      "source": [
        "# add one more layer with 100 nodes\n",
        "tf.random.set_seed(42)\n",
        "\n",
        "model_5 = tf.keras.Sequential([\n",
        "    tf.keras.layers.Dense(100, activation = \"relu\"),\n",
        "    tf.keras.layers.Dense(100, activation = \"relu\"),\n",
        "    tf.keras.layers.Dense(10, activation = \"relu\"),\n",
        "    tf.keras.layers.Dense(1, activation = \"relu\"),\n",
        "])\n",
        "\n",
        "model_5.compile(optimizer = tf.keras.optimizers.Adam(learning_rate= 0.01),\n",
        "              loss = tf.keras.losses.mae,\n",
        "              metrics=[\"mae\"])\n",
        "model_5.fit(X_train_normal, y_train, epochs = 200, verbose = 0)"
      ],
      "metadata": {
        "colab": {
          "base_uri": "https://localhost:8080/"
        },
        "id": "ScJAha9TcuK3",
        "outputId": "492d166d-d817-4f28-98c1-f560f7efe5cd"
      },
      "execution_count": 23,
      "outputs": [
        {
          "output_type": "execute_result",
          "data": {
            "text/plain": [
              "<keras.callbacks.History at 0x7f2e8258afd0>"
            ]
          },
          "metadata": {},
          "execution_count": 23
        }
      ]
    },
    {
      "cell_type": "code",
      "source": [
        "model_5.evaluate(X_test_normal, y_test)"
      ],
      "metadata": {
        "colab": {
          "base_uri": "https://localhost:8080/"
        },
        "id": "GKKQZkmTcuIW",
        "outputId": "8be6e1c4-d6cf-434b-bb27-c016849bb7e2"
      },
      "execution_count": 24,
      "outputs": [
        {
          "output_type": "stream",
          "name": "stdout",
          "text": [
            "9/9 [==============================] - 0s 2ms/step - loss: 1824.6331 - mae: 1824.6331\n"
          ]
        },
        {
          "output_type": "execute_result",
          "data": {
            "text/plain": [
              "[1824.633056640625, 1824.633056640625]"
            ]
          },
          "metadata": {},
          "execution_count": 24
        }
      ]
    },
    {
      "cell_type": "code",
      "source": [
        "# add one more layer with 100 nodes\n",
        "tf.random.set_seed(42)\n",
        "\n",
        "model_6 = tf.keras.Sequential([\n",
        "    tf.keras.layers.Dense(100, activation = \"relu\"),\n",
        "    tf.keras.layers.Dense(100, activation = \"relu\"),\n",
        "    tf.keras.layers.Dense(100, activation = \"relu\"),\n",
        "    tf.keras.layers.Dense(10, activation = \"relu\"),\n",
        "    tf.keras.layers.Dense(1, activation = \"relu\"),\n",
        "])\n",
        "\n",
        "model_6.compile(optimizer = tf.keras.optimizers.Adam(learning_rate= 0.01),\n",
        "              loss = tf.keras.losses.mae,\n",
        "              metrics=[\"mae\"])\n",
        "h= model_6.fit(X_train_normal, y_train, epochs = 200, verbose = 0)"
      ],
      "metadata": {
        "id": "nNGCTZSdcuGA"
      },
      "execution_count": 40,
      "outputs": []
    },
    {
      "cell_type": "code",
      "source": [
        "tf.random.set_seed(42)\n",
        "model_6.evaluate(X_test_normal, y_test)"
      ],
      "metadata": {
        "colab": {
          "base_uri": "https://localhost:8080/"
        },
        "id": "ugMfC5ABcuDr",
        "outputId": "fd71c653-ef54-4e0f-c6a0-4ae9e915344f"
      },
      "execution_count": 39,
      "outputs": [
        {
          "output_type": "stream",
          "name": "stdout",
          "text": [
            "9/9 [==============================] - 0s 2ms/step - loss: 1863.1368 - mae: 1863.1368\n"
          ]
        },
        {
          "output_type": "execute_result",
          "data": {
            "text/plain": [
              "[1863.1368408203125, 1863.1368408203125]"
            ]
          },
          "metadata": {},
          "execution_count": 39
        }
      ]
    },
    {
      "cell_type": "code",
      "source": [
        "pd.DataFrame(h.history).plot()\n",
        "plt.xlabel(\"Epochs\")\n",
        "plt.ylabel(\"Loss\");"
      ],
      "metadata": {
        "colab": {
          "base_uri": "https://localhost:8080/",
          "height": 282
        },
        "id": "5EMgWdzpergc",
        "outputId": "043e0ec3-afba-40c0-d4e3-d150809471ba"
      },
      "execution_count": 41,
      "outputs": [
        {
          "output_type": "display_data",
          "data": {
            "text/plain": [
              "<Figure size 432x288 with 1 Axes>"
            ],
            "image/png": "[encoded data removed]"
          },
          "metadata": {
            "needs_background": "light"
          }
        }
      ]
    },
    {
      "cell_type": "code",
      "source": [
        "#increasing number of epochs\n",
        "tf.random.set_seed(42)\n",
        "\n",
        "model_7 = tf.keras.Sequential([\n",
        "    tf.keras.layers.Dense(100, activation = \"relu\"),\n",
        "    tf.keras.layers.Dense(100, activation = \"relu\"),\n",
        "    tf.keras.layers.Dense(100, activation = \"relu\"),\n",
        "    tf.keras.layers.Dense(10, activation = \"relu\"),\n",
        "    tf.keras.layers.Dense(1, activation = \"relu\"),\n",
        "])\n",
        "\n",
        "model_7.compile(optimizer = tf.keras.optimizers.Adam(learning_rate = 0.01),\n",
        "              loss = tf.keras.losses.mae,\n",
        "              metrics=\"mae\")\n",
        "h = model_7.fit(X_train_normal, y_train, epochs = 300, verbose=0)"
      ],
      "metadata": {
        "id": "dUZo_m2ocuBL"
      },
      "execution_count": 28,
      "outputs": []
    },
    {
      "cell_type": "code",
      "source": [
        "model_7.evaluate(X_test_normal, y_test)"
      ],
      "metadata": {
        "colab": {
          "base_uri": "https://localhost:8080/"
        },
        "id": "zYa9UoPGct8x",
        "outputId": "7671975c-7113-4c4d-bf80-dc1253990b04"
      },
      "execution_count": 29,
      "outputs": [
        {
          "output_type": "stream",
          "name": "stdout",
          "text": [
            "9/9 [==============================] - 0s 1ms/step - loss: 1405.2688 - mae: 1405.2688\n"
          ]
        },
        {
          "output_type": "execute_result",
          "data": {
            "text/plain": [
              "[1405.268798828125, 1405.268798828125]"
            ]
          },
          "metadata": {},
          "execution_count": 29
        }
      ]
    },
    {
      "cell_type": "code",
      "source": [
        "pd.DataFrame(h.history).plot()\n",
        "plt.xlabel(\"Epochs\")\n",
        "plt.ylabel(\"Loss\");"
      ],
      "metadata": {
        "id": "iwk5EIfaqmWu",
        "colab": {
          "base_uri": "https://localhost:8080/",
          "height": 279
        },
        "outputId": "6f649b78-f04d-4045-866f-00619794ac19"
      },
      "execution_count": 30,
      "outputs": [
        {
          "output_type": "display_data",
          "data": {
            "text/plain": [
              "<Figure size 432x288 with 1 Axes>"
            ],
            "image/png": "[encoded data removed]"
          },
          "metadata": {
            "needs_background": "light"
          }
        }
      ]
    },
    {
      "cell_type": "code",
      "source": [
        "#changing learning rate\n",
        "tf.random.set_seed(42)\n",
        "\n",
        "model_8 = tf.keras.Sequential([\n",
        "    tf.keras.layers.Dense(100, activation = \"relu\"),\n",
        "    tf.keras.layers.Dense(100, activation = \"relu\"),\n",
        "    tf.keras.layers.Dense(100, activation = \"relu\"),\n",
        "    tf.keras.layers.Dense(10, activation = \"relu\"),\n",
        "    tf.keras.layers.Dense(1, activation = \"relu\"),\n",
        "])\n",
        "\n",
        "model_8.compile(optimizer = tf.keras.optimizers.Adam(learning_rate = 0.1),\n",
        "              loss = tf.keras.losses.mae,\n",
        "              metrics=\"mae\")\n",
        "h = model_8.fit(X_train_normal, y_train, epochs = 300, verbose=0)"
      ],
      "metadata": {
        "id": "HO-SKNLIqz2z"
      },
      "execution_count": 31,
      "outputs": []
    },
    {
      "cell_type": "code",
      "source": [
        "model_8.evaluate(X_test_normal, y_test)"
      ],
      "metadata": {
        "colab": {
          "base_uri": "https://localhost:8080/"
        },
        "id": "wH4aN99PrYxi",
        "outputId": "e73f68f5-f9bf-46c9-db50-08c8099e60fc"
      },
      "execution_count": 32,
      "outputs": [
        {
          "output_type": "stream",
          "name": "stdout",
          "text": [
            "9/9 [==============================] - 0s 1ms/step - loss: 1372.0563 - mae: 1372.0563\n"
          ]
        },
        {
          "output_type": "execute_result",
          "data": {
            "text/plain": [
              "[1372.0562744140625, 1372.0562744140625]"
            ]
          },
          "metadata": {},
          "execution_count": 32
        }
      ]
    },
    {
      "cell_type": "code",
      "source": [
        "pd.DataFrame(h.history).plot()\n",
        "plt.xlabel(\"Epochs\")\n",
        "plt.ylabel(\"Loss\");"
      ],
      "metadata": {
        "colab": {
          "base_uri": "https://localhost:8080/",
          "height": 279
        },
        "id": "cLkbVmCetZzI",
        "outputId": "1b37ef03-b676-4d55-8beb-d4e22ae510e3"
      },
      "execution_count": 33,
      "outputs": [
        {
          "output_type": "display_data",
          "data": {
            "text/plain": [
              "<Figure size 432x288 with 1 Axes>"
            ],
            "image/png": "[encoded data removed]"
          },
          "metadata": {
            "needs_background": "light"
          }
        }
      ]
    },
    {
      "cell_type": "code",
      "source": [],
      "metadata": {
        "id": "lz4bHUY9u24R"
      },
      "execution_count": 33,
      "outputs": []
    },
    {
      "cell_type": "code",
      "source": [],
      "metadata": {
        "id": "1V2uKmjxv2iW"
      },
      "execution_count": 33,
      "outputs": []
    },
    {
      "cell_type": "code",
      "source": [],
      "metadata": {
        "id": "vZHhSBwTLWBl"
      },
      "execution_count": 33,
      "outputs": []
    }
  ]
}